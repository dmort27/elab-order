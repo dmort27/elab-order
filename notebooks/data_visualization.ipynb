{
 "cells": [
  {
   "cell_type": "code",
   "execution_count": 1,
   "metadata": {},
   "outputs": [],
   "source": [
    "import pandas as pd\n",
    "import numpy as np\n",
    "import csv"
   ]
  },
  {
   "cell_type": "code",
   "execution_count": 2,
   "metadata": {},
   "outputs": [],
   "source": [
    "df = pd.read_csv(\"../scripts/elabs_extracted.csv\", quoting=csv.QUOTE_ALL)"
   ]
  },
  {
   "cell_type": "code",
   "execution_count": 3,
   "metadata": {
    "scrolled": true
   },
   "outputs": [
    {
     "data": {
      "text/html": [
       "<div>\n",
       "<style scoped>\n",
       "    .dataframe tbody tr th:only-of-type {\n",
       "        vertical-align: middle;\n",
       "    }\n",
       "\n",
       "    .dataframe tbody tr th {\n",
       "        vertical-align: top;\n",
       "    }\n",
       "\n",
       "    .dataframe thead th {\n",
       "        text-align: right;\n",
       "    }\n",
       "</style>\n",
       "<table border=\"1\" class=\"dataframe\">\n",
       "  <thead>\n",
       "    <tr style=\"text-align: right;\">\n",
       "      <th></th>\n",
       "      <th>word1</th>\n",
       "      <th>word2</th>\n",
       "      <th>word3</th>\n",
       "      <th>word4</th>\n",
       "    </tr>\n",
       "  </thead>\n",
       "  <tbody>\n",
       "    <tr>\n",
       "      <th>0</th>\n",
       "      <td>vuag</td>\n",
       "      <td>ub</td>\n",
       "      <td>vuag</td>\n",
       "      <td>no</td>\n",
       "    </tr>\n",
       "    <tr>\n",
       "      <th>1</th>\n",
       "      <td>xaiv</td>\n",
       "      <td>ntsej</td>\n",
       "      <td>xaiv</td>\n",
       "      <td>muag</td>\n",
       "    </tr>\n",
       "    <tr>\n",
       "      <th>2</th>\n",
       "      <td>qhov</td>\n",
       "      <td>phem</td>\n",
       "      <td>qhov</td>\n",
       "      <td>zoo</td>\n",
       "    </tr>\n",
       "    <tr>\n",
       "      <th>3</th>\n",
       "      <td>kev</td>\n",
       "      <td>neej</td>\n",
       "      <td>kev</td>\n",
       "      <td>tsav</td>\n",
       "    </tr>\n",
       "    <tr>\n",
       "      <th>4</th>\n",
       "      <td>tej</td>\n",
       "      <td>nom</td>\n",
       "      <td>tej</td>\n",
       "      <td>tswv</td>\n",
       "    </tr>\n",
       "    <tr>\n",
       "      <th>...</th>\n",
       "      <td>...</td>\n",
       "      <td>...</td>\n",
       "      <td>...</td>\n",
       "      <td>...</td>\n",
       "    </tr>\n",
       "    <tr>\n",
       "      <th>3248</th>\n",
       "      <td>khu</td>\n",
       "      <td>mob</td>\n",
       "      <td>khu</td>\n",
       "      <td>nkees</td>\n",
       "    </tr>\n",
       "    <tr>\n",
       "      <th>3249</th>\n",
       "      <td>cam</td>\n",
       "      <td>mus</td>\n",
       "      <td>cam</td>\n",
       "      <td>los</td>\n",
       "    </tr>\n",
       "    <tr>\n",
       "      <th>3250</th>\n",
       "      <td>me</td>\n",
       "      <td>tes</td>\n",
       "      <td>me</td>\n",
       "      <td>taw</td>\n",
       "    </tr>\n",
       "    <tr>\n",
       "      <th>3251</th>\n",
       "      <td>dig</td>\n",
       "      <td>lwj</td>\n",
       "      <td>dig</td>\n",
       "      <td>liam</td>\n",
       "    </tr>\n",
       "    <tr>\n",
       "      <th>3252</th>\n",
       "      <td>noj</td>\n",
       "      <td>nyuj</td>\n",
       "      <td>noj</td>\n",
       "      <td>twm</td>\n",
       "    </tr>\n",
       "  </tbody>\n",
       "</table>\n",
       "<p>3253 rows × 4 columns</p>\n",
       "</div>"
      ],
      "text/plain": [
       "     word1  word2 word3  word4\n",
       "0     vuag     ub  vuag     no\n",
       "1     xaiv  ntsej  xaiv   muag\n",
       "2     qhov   phem  qhov    zoo\n",
       "3      kev   neej   kev   tsav\n",
       "4      tej    nom   tej   tswv\n",
       "...    ...    ...   ...    ...\n",
       "3248   khu    mob   khu  nkees\n",
       "3249   cam    mus   cam    los\n",
       "3250    me    tes    me    taw\n",
       "3251   dig    lwj   dig   liam\n",
       "3252   noj   nyuj   noj    twm\n",
       "\n",
       "[3253 rows x 4 columns]"
      ]
     },
     "execution_count": 3,
     "metadata": {},
     "output_type": "execute_result"
    }
   ],
   "source": [
    "df"
   ]
  },
  {
   "cell_type": "markdown",
   "metadata": {},
   "source": [
    "How many are ABAC vs ABCB?"
   ]
  },
  {
   "cell_type": "code",
   "execution_count": 4,
   "metadata": {},
   "outputs": [
    {
     "name": "stdout",
     "output_type": "stream",
     "text": [
      "ABAC: 3253\n",
      "ABCB: 0\n"
     ]
    }
   ],
   "source": [
    "print('ABAC:', len(df[df.word1==df.word3]))\n",
    "print('ABCB:', len(df[df.word2==df.word4]))"
   ]
  },
  {
   "cell_type": "code",
   "execution_count": 5,
   "metadata": {},
   "outputs": [
    {
     "data": {
      "text/html": [
       "<div>\n",
       "<style scoped>\n",
       "    .dataframe tbody tr th:only-of-type {\n",
       "        vertical-align: middle;\n",
       "    }\n",
       "\n",
       "    .dataframe tbody tr th {\n",
       "        vertical-align: top;\n",
       "    }\n",
       "\n",
       "    .dataframe thead th {\n",
       "        text-align: right;\n",
       "    }\n",
       "</style>\n",
       "<table border=\"1\" class=\"dataframe\">\n",
       "  <thead>\n",
       "    <tr style=\"text-align: right;\">\n",
       "      <th></th>\n",
       "      <th>word1</th>\n",
       "      <th>word2</th>\n",
       "      <th>word3</th>\n",
       "      <th>word4</th>\n",
       "    </tr>\n",
       "  </thead>\n",
       "  <tbody>\n",
       "    <tr>\n",
       "      <th>226</th>\n",
       "      <td>sib</td>\n",
       "      <td>hlub</td>\n",
       "      <td>sib</td>\n",
       "      <td>pab</td>\n",
       "    </tr>\n",
       "    <tr>\n",
       "      <th>379</th>\n",
       "      <td>sib</td>\n",
       "      <td>hlub</td>\n",
       "      <td>sib</td>\n",
       "      <td>fwm</td>\n",
       "    </tr>\n",
       "    <tr>\n",
       "      <th>427</th>\n",
       "      <td>sib</td>\n",
       "      <td>hlub</td>\n",
       "      <td>sib</td>\n",
       "      <td>nyiam</td>\n",
       "    </tr>\n",
       "    <tr>\n",
       "      <th>658</th>\n",
       "      <td>sib</td>\n",
       "      <td>hlub</td>\n",
       "      <td>sib</td>\n",
       "      <td>nco</td>\n",
       "    </tr>\n",
       "    <tr>\n",
       "      <th>693</th>\n",
       "      <td>sib</td>\n",
       "      <td>hlub</td>\n",
       "      <td>sib</td>\n",
       "      <td>txhawb</td>\n",
       "    </tr>\n",
       "    <tr>\n",
       "      <th>935</th>\n",
       "      <td>sib</td>\n",
       "      <td>hlub</td>\n",
       "      <td>sib</td>\n",
       "      <td>paab</td>\n",
       "    </tr>\n",
       "    <tr>\n",
       "      <th>1037</th>\n",
       "      <td>sib</td>\n",
       "      <td>hlub</td>\n",
       "      <td>sib</td>\n",
       "      <td>haum</td>\n",
       "    </tr>\n",
       "    <tr>\n",
       "      <th>1357</th>\n",
       "      <td>sib</td>\n",
       "      <td>hlub</td>\n",
       "      <td>sib</td>\n",
       "      <td>hwm</td>\n",
       "    </tr>\n",
       "    <tr>\n",
       "      <th>1753</th>\n",
       "      <td>sib</td>\n",
       "      <td>hlub</td>\n",
       "      <td>sib</td>\n",
       "      <td>tshua</td>\n",
       "    </tr>\n",
       "  </tbody>\n",
       "</table>\n",
       "</div>"
      ],
      "text/plain": [
       "     word1 word2 word3   word4\n",
       "226    sib  hlub   sib     pab\n",
       "379    sib  hlub   sib     fwm\n",
       "427    sib  hlub   sib   nyiam\n",
       "658    sib  hlub   sib     nco\n",
       "693    sib  hlub   sib  txhawb\n",
       "935    sib  hlub   sib    paab\n",
       "1037   sib  hlub   sib    haum\n",
       "1357   sib  hlub   sib     hwm\n",
       "1753   sib  hlub   sib   tshua"
      ]
     },
     "execution_count": 5,
     "metadata": {},
     "output_type": "execute_result"
    }
   ],
   "source": [
    "df[(df.word1=='sib') & (df.word2=='hlub')]"
   ]
  },
  {
   "cell_type": "markdown",
   "metadata": {},
   "source": [
    "Any words where ABAC and ACAB are both attested? -- Nope"
   ]
  },
  {
   "cell_type": "code",
   "execution_count": 17,
   "metadata": {},
   "outputs": [
    {
     "name": "stdout",
     "output_type": "stream",
     "text": [
      "2 qhov phem qhov zoo\n",
      "5 txhua tsav txhua yam\n",
      "10 sib txeeb sib tua\n",
      "24 ua kwv ua tij\n",
      "75 yuav zoo yuav phem\n",
      "137 sib pab sib hlub\n",
      "156 sib tog sib txeeb\n",
      "177 sib txeeb sib tog\n",
      "226 sib hlub sib pab\n",
      "255 qhov zoo qhov phem\n",
      "264 siab loj siab ntev\n",
      "285 tso zis tso quav\n",
      "288 roob tauj roob nqeeb\n",
      "324 tsis paub tsis pom\n",
      "356 zoo nkauj zoo nraug\n",
      "394 hniav ntaj hniav riam\n",
      "412 sib pab sib koom\n",
      "427 sib hlub sib nyiam\n",
      "451 cov zoo cov phem\n",
      "469 sib txhawb sib pab\n",
      "485 sib koom sib pab\n",
      "487 txoj pa txoj siav\n",
      "510 sib nyiam sib hlub\n",
      "586 sib ntaus sib tua\n",
      "645 tim thaib tim nplog\n",
      "668 cov laus cov hluas\n",
      "671 hniav riam hniav ntaj\n",
      "692 yam zoo yam phem\n",
      "696 tsis pom tsis paub\n",
      "699 sib tua sib ntaus\n",
      "750 ntau tsav ntau yam\n",
      "752 raug txim raug thuv\n",
      "801 yeej paub yeej pom\n",
      "858 tus phem tus zoo\n",
      "885 sib pom sib paub\n",
      "907 tsi paub tsi pom\n",
      "958 sib cav sib hais\n",
      "980 ntau yam ntau tsav\n",
      "997 lus mos lus muag\n",
      "1004 neeg zoo neeg ncaj\n",
      "1009 hais phem hais zoo\n",
      "1016 sib tua sib txeeb\n",
      "1025 siab ntev siab loj\n",
      "1090 tiv tshav tiv nag\n",
      "1094 lus muag lus mos\n",
      "1100 zoo nraug zoo nkauj\n",
      "1108 sib hais sib cav\n",
      "1175 sib pab sib txhawb\n",
      "1227 ua phem ua zoo\n",
      "1255 txoj siav txoj pa\n",
      "1260 ua tij ua kwv\n",
      "1285 muab phom muab riam\n",
      "1367 roob nqeeb roob tauj\n",
      "1380 tus zoo tus phem\n",
      "1460 txhua yam txhua tsav\n",
      "1679 neeg ncaj neeg zoo\n",
      "1684 cov hluas cov laus\n",
      "1688 muab riam muab phom\n",
      "1718 raug thuv raug txim\n",
      "1746 xav pom xav paub\n",
      "1798 tso quav tso zis\n",
      "1809 txawm zoo txawm phem\n",
      "1825 lus phem lus zoo\n",
      "1841 hmoob thaib hmoob nplog\n",
      "1968 tsis hlub tsis pab\n",
      "1974 yam phem yam zoo\n",
      "2097 tim nplog tim thaib\n",
      "2114 yuav phem yuav zoo\n",
      "2122 sib paub sib pom\n",
      "2125 txawm phem txawm zoo\n",
      "2175 tiv nag tiv tshav\n",
      "2185 tsi pom tsi paub\n",
      "2230 tsis pab tsis hlub\n",
      "2252 tus pom tus paub\n",
      "2258 lub txim lub thuv\n",
      "2411 ua zoo ua phem\n",
      "2425 cov phem cov zoo\n",
      "2446 xav paub xav pom\n",
      "2586 hmoob nplog hmoob thaib\n",
      "2600 hais zoo hais phem\n",
      "2606 tus paub tus pom\n",
      "2752 lus zoo lus phem\n",
      "2765 lub thuv lub txim\n",
      "3227 yeej pom yeej paub\n",
      "there are 84/2=42.0 words with both orders attested\n"
     ]
    }
   ],
   "source": [
    "cntr = 0\n",
    "for i, (word1, word2, word3, word4) in df.iterrows():\n",
    "    other_order = df[(df.word1==word1) & (df.word2==word4) & (df.word4==word2)]\n",
    "    if len(other_order) > 0:\n",
    "        print(i, word1, word2, word3, word4)\n",
    "        cntr += 1\n",
    "\n",
    "print(f\"there are {cntr}/2={cntr/2} words with both orders attested\")"
   ]
  },
  {
   "cell_type": "code",
   "execution_count": 14,
   "metadata": {},
   "outputs": [
    {
     "data": {
      "text/html": [
       "<div>\n",
       "<style scoped>\n",
       "    .dataframe tbody tr th:only-of-type {\n",
       "        vertical-align: middle;\n",
       "    }\n",
       "\n",
       "    .dataframe tbody tr th {\n",
       "        vertical-align: top;\n",
       "    }\n",
       "\n",
       "    .dataframe thead th {\n",
       "        text-align: right;\n",
       "    }\n",
       "</style>\n",
       "<table border=\"1\" class=\"dataframe\">\n",
       "  <thead>\n",
       "    <tr style=\"text-align: right;\">\n",
       "      <th></th>\n",
       "      <th>word1</th>\n",
       "      <th>word2</th>\n",
       "      <th>word3</th>\n",
       "      <th>word4</th>\n",
       "    </tr>\n",
       "  </thead>\n",
       "  <tbody>\n",
       "    <tr>\n",
       "      <th>137</th>\n",
       "      <td>sib</td>\n",
       "      <td>pab</td>\n",
       "      <td>sib</td>\n",
       "      <td>hlub</td>\n",
       "    </tr>\n",
       "  </tbody>\n",
       "</table>\n",
       "</div>"
      ],
      "text/plain": [
       "    word1 word2 word3 word4\n",
       "137   sib   pab   sib  hlub"
      ]
     },
     "execution_count": 14,
     "metadata": {},
     "output_type": "execute_result"
    }
   ],
   "source": [
    "word1, word2, word3, word4 = df.iloc[226]\n",
    "df[(df.word1==word1) & (df.word4==word2) & (df.word2==word4)]"
   ]
  },
  {
   "cell_type": "markdown",
   "metadata": {},
   "source": [
    "## Test the syllable regex"
   ]
  },
  {
   "cell_type": "code",
   "execution_count": 6,
   "metadata": {},
   "outputs": [],
   "source": [
    "import sys\n",
    "sys.path.append(\"..\")\n",
    "from libraries.hmong_rpa.rpa_regex import RPA_SYLLABLE as rpa"
   ]
  },
  {
   "cell_type": "code",
   "execution_count": 7,
   "metadata": {},
   "outputs": [],
   "source": [
    "all_syllables = df[\"word1\"].tolist() + df[\"word2\"].tolist() + df[\"word4\"].tolist()"
   ]
  },
  {
   "cell_type": "markdown",
   "metadata": {},
   "source": [
    "Changed: in all three regex grammars, \"ua\" is repeated. One of them should be \"au\""
   ]
  },
  {
   "cell_type": "code",
   "execution_count": 8,
   "metadata": {
    "scrolled": true
   },
   "outputs": [
    {
     "name": "stdout",
     "output_type": "stream",
     "text": [
      "wrong composition for ntusag: nt+u+s\n"
     ]
    }
   ],
   "source": [
    "for syl in all_syllables:\n",
    "    m = rpa.match(syl)\n",
    "    ons, rhy, ton = m.group(\"ons\"), m.group(\"rhy\"), m.group(\"ton\")\n",
    "    if not \"rhy\":\n",
    "        print(\"no vowel for\", syl)\n",
    "    if ons+rhy+ton != syl:\n",
    "        print(f\"wrong composition for {syl}: {ons}+{rhy}+{ton}\")"
   ]
  },
  {
   "cell_type": "markdown",
   "metadata": {},
   "source": [
    "One word with a weird \"ntusag\" syllable. Perhaps a mistake in the extraction process or a typo in the corpus?"
   ]
  },
  {
   "cell_type": "code",
   "execution_count": 9,
   "metadata": {},
   "outputs": [
    {
     "data": {
      "text/html": [
       "<div>\n",
       "<style scoped>\n",
       "    .dataframe tbody tr th:only-of-type {\n",
       "        vertical-align: middle;\n",
       "    }\n",
       "\n",
       "    .dataframe tbody tr th {\n",
       "        vertical-align: top;\n",
       "    }\n",
       "\n",
       "    .dataframe thead th {\n",
       "        text-align: right;\n",
       "    }\n",
       "</style>\n",
       "<table border=\"1\" class=\"dataframe\">\n",
       "  <thead>\n",
       "    <tr style=\"text-align: right;\">\n",
       "      <th></th>\n",
       "      <th>word1</th>\n",
       "      <th>word2</th>\n",
       "      <th>word3</th>\n",
       "      <th>word4</th>\n",
       "    </tr>\n",
       "  </thead>\n",
       "  <tbody>\n",
       "    <tr>\n",
       "      <th>362</th>\n",
       "      <td>puj</td>\n",
       "      <td>nrauj</td>\n",
       "      <td>puj</td>\n",
       "      <td>ntusag</td>\n",
       "    </tr>\n",
       "  </tbody>\n",
       "</table>\n",
       "</div>"
      ],
      "text/plain": [
       "    word1  word2 word3   word4\n",
       "362   puj  nrauj   puj  ntusag"
      ]
     },
     "execution_count": 9,
     "metadata": {},
     "output_type": "execute_result"
    }
   ],
   "source": [
    "df[df.word4=='ntusag']"
   ]
  },
  {
   "cell_type": "markdown",
   "metadata": {},
   "source": [
    "A few words that have the 'd' tone, which is not found in rpa. I was going to suggest perhaps these are Dananshan Miao tones, but 'v' doesn't exist in Dananshan (according to Wikipedia) but exist in the same word as the 'd' tones, so I don't know.."
   ]
  },
  {
   "cell_type": "code",
   "execution_count": 10,
   "metadata": {},
   "outputs": [
    {
     "data": {
      "text/html": [
       "<div>\n",
       "<style scoped>\n",
       "    .dataframe tbody tr th:only-of-type {\n",
       "        vertical-align: middle;\n",
       "    }\n",
       "\n",
       "    .dataframe tbody tr th {\n",
       "        vertical-align: top;\n",
       "    }\n",
       "\n",
       "    .dataframe thead th {\n",
       "        text-align: right;\n",
       "    }\n",
       "</style>\n",
       "<table border=\"1\" class=\"dataframe\">\n",
       "  <thead>\n",
       "    <tr style=\"text-align: right;\">\n",
       "      <th></th>\n",
       "      <th>word1</th>\n",
       "      <th>word2</th>\n",
       "      <th>word3</th>\n",
       "      <th>word4</th>\n",
       "    </tr>\n",
       "  </thead>\n",
       "  <tbody>\n",
       "    <tr>\n",
       "      <th>558</th>\n",
       "      <td>plhaw</td>\n",
       "      <td>tod</td>\n",
       "      <td>plhaw</td>\n",
       "      <td>ped</td>\n",
       "    </tr>\n",
       "    <tr>\n",
       "      <th>982</th>\n",
       "      <td>rau</td>\n",
       "      <td>ped</td>\n",
       "      <td>rau</td>\n",
       "      <td>nrad</td>\n",
       "    </tr>\n",
       "    <tr>\n",
       "      <th>1253</th>\n",
       "      <td>yav</td>\n",
       "      <td>ped</td>\n",
       "      <td>yav</td>\n",
       "      <td>nrad</td>\n",
       "    </tr>\n",
       "    <tr>\n",
       "      <th>1377</th>\n",
       "      <td>rau</td>\n",
       "      <td>tod</td>\n",
       "      <td>rau</td>\n",
       "      <td>nrad</td>\n",
       "    </tr>\n",
       "    <tr>\n",
       "      <th>2357</th>\n",
       "      <td>xam</td>\n",
       "      <td>ped</td>\n",
       "      <td>xam</td>\n",
       "      <td>nrad</td>\n",
       "    </tr>\n",
       "    <tr>\n",
       "      <th>2438</th>\n",
       "      <td>yawg</td>\n",
       "      <td>tod</td>\n",
       "      <td>yawg</td>\n",
       "      <td>ped</td>\n",
       "    </tr>\n",
       "    <tr>\n",
       "      <th>3122</th>\n",
       "      <td>nkawd</td>\n",
       "      <td>kwv</td>\n",
       "      <td>nkawd</td>\n",
       "      <td>tij</td>\n",
       "    </tr>\n",
       "    <tr>\n",
       "      <th>3137</th>\n",
       "      <td>ntawd</td>\n",
       "      <td>noj</td>\n",
       "      <td>ntawd</td>\n",
       "      <td>haus</td>\n",
       "    </tr>\n",
       "  </tbody>\n",
       "</table>\n",
       "</div>"
      ],
      "text/plain": [
       "      word1 word2  word3 word4\n",
       "558   plhaw   tod  plhaw   ped\n",
       "982     rau   ped    rau  nrad\n",
       "1253    yav   ped    yav  nrad\n",
       "1377    rau   tod    rau  nrad\n",
       "2357    xam   ped    xam  nrad\n",
       "2438   yawg   tod   yawg   ped\n",
       "3122  nkawd   kwv  nkawd   tij\n",
       "3137  ntawd   noj  ntawd  haus"
      ]
     },
     "execution_count": 10,
     "metadata": {},
     "output_type": "execute_result"
    }
   ],
   "source": [
    "df[df.word1.str.endswith('d')|df.word2.str.endswith('d')|df.word4.str.endswith('d')]"
   ]
  },
  {
   "cell_type": "markdown",
   "metadata": {},
   "source": [
    "Get all possible onsets, rhymes, and tones:"
   ]
  },
  {
   "cell_type": "code",
   "execution_count": 11,
   "metadata": {},
   "outputs": [
    {
     "data": {
      "text/plain": [
       "9759"
      ]
     },
     "execution_count": 11,
     "metadata": {},
     "output_type": "execute_result"
    }
   ],
   "source": [
    "len(all_syllables)"
   ]
  },
  {
   "cell_type": "code",
   "execution_count": 19,
   "metadata": {},
   "outputs": [
    {
     "ename": "NameError",
     "evalue": "name 'all_syllables' is not defined",
     "output_type": "error",
     "traceback": [
      "\u001b[0;31m---------------------------------------------------------------------------\u001b[0m",
      "\u001b[0;31mNameError\u001b[0m                                 Traceback (most recent call last)",
      "\u001b[0;32m<ipython-input-19-52b972bae235>\u001b[0m in \u001b[0;36m<module>\u001b[0;34m\u001b[0m\n\u001b[1;32m      1\u001b[0m \u001b[0;32mfrom\u001b[0m \u001b[0mcollections\u001b[0m \u001b[0;32mimport\u001b[0m \u001b[0mCounter\u001b[0m\u001b[0;34m\u001b[0m\u001b[0;34m\u001b[0m\u001b[0m\n\u001b[1;32m      2\u001b[0m \u001b[0monsets\u001b[0m\u001b[0;34m,\u001b[0m \u001b[0mrhymes\u001b[0m\u001b[0;34m,\u001b[0m \u001b[0mtones\u001b[0m \u001b[0;34m=\u001b[0m \u001b[0mCounter\u001b[0m\u001b[0;34m(\u001b[0m\u001b[0;34m)\u001b[0m\u001b[0;34m,\u001b[0m \u001b[0mCounter\u001b[0m\u001b[0;34m(\u001b[0m\u001b[0;34m)\u001b[0m\u001b[0;34m,\u001b[0m \u001b[0mCounter\u001b[0m\u001b[0;34m(\u001b[0m\u001b[0;34m)\u001b[0m\u001b[0;34m\u001b[0m\u001b[0;34m\u001b[0m\u001b[0m\n\u001b[0;32m----> 3\u001b[0;31m \u001b[0;32mfor\u001b[0m \u001b[0msyl\u001b[0m \u001b[0;32min\u001b[0m \u001b[0mall_syllables\u001b[0m\u001b[0;34m:\u001b[0m\u001b[0;34m\u001b[0m\u001b[0;34m\u001b[0m\u001b[0m\n\u001b[0m\u001b[1;32m      4\u001b[0m     \u001b[0mm\u001b[0m \u001b[0;34m=\u001b[0m \u001b[0mrpa\u001b[0m\u001b[0;34m.\u001b[0m\u001b[0mmatch\u001b[0m\u001b[0;34m(\u001b[0m\u001b[0msyl\u001b[0m\u001b[0;34m)\u001b[0m\u001b[0;34m\u001b[0m\u001b[0;34m\u001b[0m\u001b[0m\n\u001b[1;32m      5\u001b[0m     \u001b[0mons\u001b[0m\u001b[0;34m,\u001b[0m \u001b[0mrhy\u001b[0m\u001b[0;34m,\u001b[0m \u001b[0mton\u001b[0m \u001b[0;34m=\u001b[0m \u001b[0mm\u001b[0m\u001b[0;34m.\u001b[0m\u001b[0mgroup\u001b[0m\u001b[0;34m(\u001b[0m\u001b[0;34m\"ons\"\u001b[0m\u001b[0;34m)\u001b[0m\u001b[0;34m,\u001b[0m \u001b[0mm\u001b[0m\u001b[0;34m.\u001b[0m\u001b[0mgroup\u001b[0m\u001b[0;34m(\u001b[0m\u001b[0;34m\"rhy\"\u001b[0m\u001b[0;34m)\u001b[0m\u001b[0;34m,\u001b[0m \u001b[0mm\u001b[0m\u001b[0;34m.\u001b[0m\u001b[0mgroup\u001b[0m\u001b[0;34m(\u001b[0m\u001b[0;34m\"ton\"\u001b[0m\u001b[0;34m)\u001b[0m\u001b[0;34m\u001b[0m\u001b[0;34m\u001b[0m\u001b[0m\n",
      "\u001b[0;31mNameError\u001b[0m: name 'all_syllables' is not defined"
     ]
    }
   ],
   "source": [
    "from collections import Counter\n",
    "onsets, rhymes, tones = Counter(), Counter(), Counter()\n",
    "for syl in all_syllables:\n",
    "    m = rpa.match(syl)\n",
    "    ons, rhy, ton = m.group(\"ons\"), m.group(\"rhy\"), m.group(\"ton\")\n",
    "    \n",
    "    onsets[ons] += 1\n",
    "    rhymes[rhy] += 1\n",
    "    tones[ton] += 1\n",
    "    \n",
    "print(\"all possible onsets:\", onsets, len(onsets))\n",
    "print(\"all possible rhymes:\", rhymes, len(rhymes))\n",
    "print(\"all possible tones:\", tones, len(tones))"
   ]
  },
  {
   "cell_type": "markdown",
   "metadata": {},
   "source": [
    "# Test Epitran and Panphon"
   ]
  },
  {
   "cell_type": "code",
   "execution_count": 22,
   "metadata": {},
   "outputs": [],
   "source": [
    "import epitran, panphon"
   ]
  },
  {
   "cell_type": "code",
   "execution_count": 23,
   "metadata": {},
   "outputs": [],
   "source": [
    "epi = epitran.Epitran('hmn-Latn')"
   ]
  },
  {
   "cell_type": "code",
   "execution_count": 30,
   "metadata": {
    "scrolled": true
   },
   "outputs": [
    {
     "data": {
      "text/plain": [
       "array([2, 2, 1, 2, 2, 1, 1, 2, 2, 3, 2, 0, 0, 2, 3, 0, 2, 3, 0, 2, 3, 1,\n",
       "       4, 0, 3, 2, 0, 0, 2, 3, 0, 2, 3, 1, 4, 0, 0, 2, 3, 0, 5, 0, 2, 2,\n",
       "       1, 1, 2, 2, 0, 2, 3, 2, 2, 1, 1, 2, 2, 0, 2, 3, 1, 3, 1, 0, 2, 3,\n",
       "       0, 4, 1, 0, 4, 1])"
      ]
     },
     "execution_count": 30,
     "metadata": {},
     "output_type": "execute_result"
    }
   ],
   "source": [
    "ft = panphon.FeatureTable()\n",
    "ft.bag_of_features(epi.transliterate('vuag'))"
   ]
  },
  {
   "cell_type": "code",
   "execution_count": 31,
   "metadata": {},
   "outputs": [
    {
     "data": {
      "text/plain": [
       "'vuə˧˩'"
      ]
     },
     "execution_count": 31,
     "metadata": {},
     "output_type": "execute_result"
    }
   ],
   "source": [
    "epi.transliterate('vuag')"
   ]
  },
  {
   "cell_type": "code",
   "execution_count": 35,
   "metadata": {},
   "outputs": [
    {
     "name": "stdout",
     "output_type": "stream",
     "text": [
      "+syl 2\n",
      "0syl 2\n",
      "-syl 1\n",
      "+son 2\n",
      "0son 2\n",
      "-son 1\n",
      "+cons 1\n",
      "0cons 2\n",
      "-cons 2\n",
      "+cont 3\n",
      "0cont 2\n",
      "-cont 0\n",
      "+delrel 0\n",
      "0delrel 2\n",
      "-delrel 3\n",
      "+lat 0\n",
      "0lat 2\n",
      "-lat 3\n",
      "+nas 0\n",
      "0nas 2\n",
      "-nas 3\n",
      "+strid 1\n",
      "0strid 4\n",
      "-strid 0\n",
      "+voi 3\n",
      "0voi 2\n",
      "-voi 0\n",
      "+sg 0\n",
      "0sg 2\n",
      "-sg 3\n",
      "+cg 0\n",
      "0cg 2\n",
      "-cg 3\n",
      "+ant 1\n",
      "0ant 4\n",
      "-ant 0\n",
      "+cor 0\n",
      "0cor 2\n",
      "-cor 3\n",
      "+distr 0\n",
      "0distr 5\n",
      "-distr 0\n",
      "+lab 2\n",
      "0lab 2\n",
      "-lab 1\n",
      "+hi 1\n",
      "0hi 2\n",
      "-hi 2\n",
      "+lo 0\n",
      "0lo 2\n",
      "-lo 3\n",
      "+back 2\n",
      "0back 2\n",
      "-back 1\n",
      "+round 1\n",
      "0round 2\n",
      "-round 2\n",
      "+velaric 0\n",
      "0velaric 2\n",
      "-velaric 3\n",
      "+tense 1\n",
      "0tense 3\n",
      "-tense 1\n",
      "+long 0\n",
      "0long 2\n",
      "-long 3\n",
      "+hitone 0\n",
      "0hitone 4\n",
      "-hitone 1\n",
      "+hireg 0\n",
      "0hireg 4\n",
      "-hireg 1\n"
     ]
    }
   ],
   "source": [
    "feat_names = [f'{sign}{n}' for n in ft.names for sign in ('+', '0', '-')]\n",
    "for fn, val in zip(feat_names, ft.bag_of_features(epi.transliterate('vuag'))):\n",
    "    print(fn, val)"
   ]
  }
 ],
 "metadata": {
  "kernelspec": {
   "display_name": "Python [conda env:py38] *",
   "language": "python",
   "name": "conda-env-py38-py"
  },
  "language_info": {
   "codemirror_mode": {
    "name": "ipython",
    "version": 3
   },
   "file_extension": ".py",
   "mimetype": "text/x-python",
   "name": "python",
   "nbconvert_exporter": "python",
   "pygments_lexer": "ipython3",
   "version": "3.8.2"
  }
 },
 "nbformat": 4,
 "nbformat_minor": 4
}
