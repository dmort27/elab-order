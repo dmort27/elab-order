{
 "cells": [
  {
   "cell_type": "code",
   "execution_count": 1,
   "metadata": {},
   "outputs": [],
   "source": [
    "import pandas as pd\n",
    "import numpy as np\n",
    "import csv"
   ]
  },
  {
   "cell_type": "code",
   "execution_count": 2,
   "metadata": {},
   "outputs": [],
   "source": [
    "df = pd.read_csv(\"../scripts/elabs_extracted.csv\", quoting=csv.QUOTE_ALL)"
   ]
  },
  {
   "cell_type": "code",
   "execution_count": 3,
   "metadata": {},
   "outputs": [
    {
     "data": {
      "text/html": [
       "<div>\n",
       "<style scoped>\n",
       "    .dataframe tbody tr th:only-of-type {\n",
       "        vertical-align: middle;\n",
       "    }\n",
       "\n",
       "    .dataframe tbody tr th {\n",
       "        vertical-align: top;\n",
       "    }\n",
       "\n",
       "    .dataframe thead th {\n",
       "        text-align: right;\n",
       "    }\n",
       "</style>\n",
       "<table border=\"1\" class=\"dataframe\">\n",
       "  <thead>\n",
       "    <tr style=\"text-align: right;\">\n",
       "      <th></th>\n",
       "      <th>word1</th>\n",
       "      <th>word2</th>\n",
       "      <th>word3</th>\n",
       "      <th>word4</th>\n",
       "    </tr>\n",
       "  </thead>\n",
       "  <tbody>\n",
       "    <tr>\n",
       "      <th>0</th>\n",
       "      <td>vuag</td>\n",
       "      <td>ub</td>\n",
       "      <td>vuag</td>\n",
       "      <td>no</td>\n",
       "    </tr>\n",
       "    <tr>\n",
       "      <th>1</th>\n",
       "      <td>xaiv</td>\n",
       "      <td>ntsej</td>\n",
       "      <td>xaiv</td>\n",
       "      <td>muag</td>\n",
       "    </tr>\n",
       "    <tr>\n",
       "      <th>2</th>\n",
       "      <td>qhov</td>\n",
       "      <td>phem</td>\n",
       "      <td>qhov</td>\n",
       "      <td>zoo</td>\n",
       "    </tr>\n",
       "    <tr>\n",
       "      <th>3</th>\n",
       "      <td>kev</td>\n",
       "      <td>neej</td>\n",
       "      <td>kev</td>\n",
       "      <td>tsav</td>\n",
       "    </tr>\n",
       "    <tr>\n",
       "      <th>4</th>\n",
       "      <td>tej</td>\n",
       "      <td>nom</td>\n",
       "      <td>tej</td>\n",
       "      <td>tswv</td>\n",
       "    </tr>\n",
       "    <tr>\n",
       "      <th>...</th>\n",
       "      <td>...</td>\n",
       "      <td>...</td>\n",
       "      <td>...</td>\n",
       "      <td>...</td>\n",
       "    </tr>\n",
       "    <tr>\n",
       "      <th>3248</th>\n",
       "      <td>khu</td>\n",
       "      <td>mob</td>\n",
       "      <td>khu</td>\n",
       "      <td>nkees</td>\n",
       "    </tr>\n",
       "    <tr>\n",
       "      <th>3249</th>\n",
       "      <td>cam</td>\n",
       "      <td>mus</td>\n",
       "      <td>cam</td>\n",
       "      <td>los</td>\n",
       "    </tr>\n",
       "    <tr>\n",
       "      <th>3250</th>\n",
       "      <td>me</td>\n",
       "      <td>tes</td>\n",
       "      <td>me</td>\n",
       "      <td>taw</td>\n",
       "    </tr>\n",
       "    <tr>\n",
       "      <th>3251</th>\n",
       "      <td>dig</td>\n",
       "      <td>lwj</td>\n",
       "      <td>dig</td>\n",
       "      <td>liam</td>\n",
       "    </tr>\n",
       "    <tr>\n",
       "      <th>3252</th>\n",
       "      <td>noj</td>\n",
       "      <td>nyuj</td>\n",
       "      <td>noj</td>\n",
       "      <td>twm</td>\n",
       "    </tr>\n",
       "  </tbody>\n",
       "</table>\n",
       "<p>3253 rows × 4 columns</p>\n",
       "</div>"
      ],
      "text/plain": [
       "     word1  word2 word3  word4\n",
       "0     vuag     ub  vuag     no\n",
       "1     xaiv  ntsej  xaiv   muag\n",
       "2     qhov   phem  qhov    zoo\n",
       "3      kev   neej   kev   tsav\n",
       "4      tej    nom   tej   tswv\n",
       "...    ...    ...   ...    ...\n",
       "3248   khu    mob   khu  nkees\n",
       "3249   cam    mus   cam    los\n",
       "3250    me    tes    me    taw\n",
       "3251   dig    lwj   dig   liam\n",
       "3252   noj   nyuj   noj    twm\n",
       "\n",
       "[3253 rows x 4 columns]"
      ]
     },
     "execution_count": 3,
     "metadata": {},
     "output_type": "execute_result"
    }
   ],
   "source": [
    "df"
   ]
  },
  {
   "cell_type": "markdown",
   "metadata": {},
   "source": [
    "How many are ABAC vs ABCB?"
   ]
  },
  {
   "cell_type": "code",
   "execution_count": 4,
   "metadata": {},
   "outputs": [
    {
     "name": "stdout",
     "output_type": "stream",
     "text": [
      "ABAC: 3253\n",
      "ABCB: 0\n"
     ]
    }
   ],
   "source": [
    "print('ABAC:', len(df[df.word1==df.word3]))\n",
    "print('ABCB:', len(df[df.word2==df.word4]))"
   ]
  },
  {
   "cell_type": "markdown",
   "metadata": {},
   "source": [
    "Any words where ABAC and ACAB are both attested? -- Nope"
   ]
  },
  {
   "cell_type": "code",
   "execution_count": 5,
   "metadata": {},
   "outputs": [],
   "source": [
    "for i, (word1, word2, word3, word4) in df.iterrows():\n",
    "    other_order = df[(df.word1==word1) & (df.word2==word4) & (df.word4==word2)]\n",
    "    if len(other_order) > 1:\n",
    "        print(other_order)"
   ]
  },
  {
   "cell_type": "markdown",
   "metadata": {},
   "source": [
    "## Test the syllable regex"
   ]
  },
  {
   "cell_type": "code",
   "execution_count": 6,
   "metadata": {},
   "outputs": [],
   "source": [
    "import sys\n",
    "sys.path.append(\"..\")\n",
    "from libraries.hmong_rpa.rpa_regex import RPA_SYLLABLE as rpa"
   ]
  },
  {
   "cell_type": "code",
   "execution_count": 7,
   "metadata": {},
   "outputs": [],
   "source": [
    "all_syllables = df[\"word1\"].tolist() + df[\"word2\"].tolist() + df[\"word4\"].tolist()"
   ]
  },
  {
   "cell_type": "markdown",
   "metadata": {},
   "source": [
    "Changed: in all three regex grammars, \"ua\" is repeated. One of them should be \"au\""
   ]
  },
  {
   "cell_type": "code",
   "execution_count": 8,
   "metadata": {
    "scrolled": true
   },
   "outputs": [
    {
     "name": "stdout",
     "output_type": "stream",
     "text": [
      "wrong composition for ntusag: nt+u+s\n"
     ]
    }
   ],
   "source": [
    "for syl in all_syllables:\n",
    "    m = rpa.match(syl)\n",
    "    ons, rhy, ton = m.group(\"ons\"), m.group(\"rhy\"), m.group(\"ton\")\n",
    "    if not \"rhy\":\n",
    "        print(\"no vowel for\", syl)\n",
    "    if ons+rhy+ton != syl:\n",
    "        print(f\"wrong composition for {syl}: {ons}+{rhy}+{ton}\")"
   ]
  },
  {
   "cell_type": "markdown",
   "metadata": {},
   "source": [
    "One word with a weird \"ntusag\" syllable. Perhaps a mistake in the extraction process or a typo in the corpus?"
   ]
  },
  {
   "cell_type": "code",
   "execution_count": 9,
   "metadata": {},
   "outputs": [
    {
     "data": {
      "text/html": [
       "<div>\n",
       "<style scoped>\n",
       "    .dataframe tbody tr th:only-of-type {\n",
       "        vertical-align: middle;\n",
       "    }\n",
       "\n",
       "    .dataframe tbody tr th {\n",
       "        vertical-align: top;\n",
       "    }\n",
       "\n",
       "    .dataframe thead th {\n",
       "        text-align: right;\n",
       "    }\n",
       "</style>\n",
       "<table border=\"1\" class=\"dataframe\">\n",
       "  <thead>\n",
       "    <tr style=\"text-align: right;\">\n",
       "      <th></th>\n",
       "      <th>word1</th>\n",
       "      <th>word2</th>\n",
       "      <th>word3</th>\n",
       "      <th>word4</th>\n",
       "    </tr>\n",
       "  </thead>\n",
       "  <tbody>\n",
       "    <tr>\n",
       "      <th>362</th>\n",
       "      <td>puj</td>\n",
       "      <td>nrauj</td>\n",
       "      <td>puj</td>\n",
       "      <td>ntusag</td>\n",
       "    </tr>\n",
       "  </tbody>\n",
       "</table>\n",
       "</div>"
      ],
      "text/plain": [
       "    word1  word2 word3   word4\n",
       "362   puj  nrauj   puj  ntusag"
      ]
     },
     "execution_count": 9,
     "metadata": {},
     "output_type": "execute_result"
    }
   ],
   "source": [
    "df[df.word4=='ntusag']"
   ]
  },
  {
   "cell_type": "markdown",
   "metadata": {},
   "source": [
    "A few words that have the 'd' tone, which is not found in rpa. I was going to suggest perhaps these are Dananshan Miao tones, but 'v' doesn't exist in Dananshan (according to Wikipedia) but exist in the same word as the 'd' tones, so I don't know.."
   ]
  },
  {
   "cell_type": "code",
   "execution_count": 10,
   "metadata": {},
   "outputs": [
    {
     "data": {
      "text/html": [
       "<div>\n",
       "<style scoped>\n",
       "    .dataframe tbody tr th:only-of-type {\n",
       "        vertical-align: middle;\n",
       "    }\n",
       "\n",
       "    .dataframe tbody tr th {\n",
       "        vertical-align: top;\n",
       "    }\n",
       "\n",
       "    .dataframe thead th {\n",
       "        text-align: right;\n",
       "    }\n",
       "</style>\n",
       "<table border=\"1\" class=\"dataframe\">\n",
       "  <thead>\n",
       "    <tr style=\"text-align: right;\">\n",
       "      <th></th>\n",
       "      <th>word1</th>\n",
       "      <th>word2</th>\n",
       "      <th>word3</th>\n",
       "      <th>word4</th>\n",
       "    </tr>\n",
       "  </thead>\n",
       "  <tbody>\n",
       "    <tr>\n",
       "      <th>558</th>\n",
       "      <td>plhaw</td>\n",
       "      <td>tod</td>\n",
       "      <td>plhaw</td>\n",
       "      <td>ped</td>\n",
       "    </tr>\n",
       "    <tr>\n",
       "      <th>982</th>\n",
       "      <td>rau</td>\n",
       "      <td>ped</td>\n",
       "      <td>rau</td>\n",
       "      <td>nrad</td>\n",
       "    </tr>\n",
       "    <tr>\n",
       "      <th>1253</th>\n",
       "      <td>yav</td>\n",
       "      <td>ped</td>\n",
       "      <td>yav</td>\n",
       "      <td>nrad</td>\n",
       "    </tr>\n",
       "    <tr>\n",
       "      <th>1377</th>\n",
       "      <td>rau</td>\n",
       "      <td>tod</td>\n",
       "      <td>rau</td>\n",
       "      <td>nrad</td>\n",
       "    </tr>\n",
       "    <tr>\n",
       "      <th>2357</th>\n",
       "      <td>xam</td>\n",
       "      <td>ped</td>\n",
       "      <td>xam</td>\n",
       "      <td>nrad</td>\n",
       "    </tr>\n",
       "    <tr>\n",
       "      <th>2438</th>\n",
       "      <td>yawg</td>\n",
       "      <td>tod</td>\n",
       "      <td>yawg</td>\n",
       "      <td>ped</td>\n",
       "    </tr>\n",
       "    <tr>\n",
       "      <th>3122</th>\n",
       "      <td>nkawd</td>\n",
       "      <td>kwv</td>\n",
       "      <td>nkawd</td>\n",
       "      <td>tij</td>\n",
       "    </tr>\n",
       "    <tr>\n",
       "      <th>3137</th>\n",
       "      <td>ntawd</td>\n",
       "      <td>noj</td>\n",
       "      <td>ntawd</td>\n",
       "      <td>haus</td>\n",
       "    </tr>\n",
       "  </tbody>\n",
       "</table>\n",
       "</div>"
      ],
      "text/plain": [
       "      word1 word2  word3 word4\n",
       "558   plhaw   tod  plhaw   ped\n",
       "982     rau   ped    rau  nrad\n",
       "1253    yav   ped    yav  nrad\n",
       "1377    rau   tod    rau  nrad\n",
       "2357    xam   ped    xam  nrad\n",
       "2438   yawg   tod   yawg   ped\n",
       "3122  nkawd   kwv  nkawd   tij\n",
       "3137  ntawd   noj  ntawd  haus"
      ]
     },
     "execution_count": 10,
     "metadata": {},
     "output_type": "execute_result"
    }
   ],
   "source": [
    "df[df.word1.str.endswith('d')|df.word2.str.endswith('d')|df.word4.str.endswith('d')]"
   ]
  },
  {
   "cell_type": "markdown",
   "metadata": {},
   "source": [
    "Get all possible onsets, rhymes, and tones:"
   ]
  },
  {
   "cell_type": "code",
   "execution_count": 11,
   "metadata": {},
   "outputs": [
    {
     "data": {
      "text/plain": [
       "9759"
      ]
     },
     "execution_count": 11,
     "metadata": {},
     "output_type": "execute_result"
    }
   ],
   "source": [
    "len(all_syllables)"
   ]
  },
  {
   "cell_type": "code",
   "execution_count": 13,
   "metadata": {},
   "outputs": [
    {
     "name": "stdout",
     "output_type": "stream",
     "text": [
      "all possible onsets: Counter({'t': 932, 'n': 719, 'l': 558, 'ts': 492, 'k': 473, 'p': 447, 'm': 445, '': 366, 's': 363, 'z': 337, 'c': 336, 'tx': 334, 'y': 288, 'd': 276, 'nt': 262, 'h': 248, 'r': 225, 'nts': 210, 'q': 197, 'ny': 176, 'txh': 141, 'ph': 130, 'ch': 122, 'v': 121, 'hl': 119, 'tsh': 115, 'x': 105, 'nc': 100, 'qh': 97, 'kh': 95, 'nr': 94, 'pl': 87, 'th': 85, 'np': 80, 'hm': 74, 'nq': 68, 'nk': 61, 'hn': 59, 'xy': 54, 'ntsh': 46, 'ntxh': 42, 'f': 34, 'dl': 33, 'ntx': 29, 'npl': 25, 'dh': 13, 'nrh': 12, 'ml': 8, 'nqh': 8, 'plh': 3, 'nch': 3, 'rh': 2, 'dlh': 2, 'ndl': 2, 'nkh': 2, 'hny': 2, 'nth': 1, 'nph': 1}) 58\n",
      "all possible rhymes: Counter({'o': 1314, 'u': 1076, 'ua': 1071, 'e': 956, 'a': 932, 'i': 853, 'au': 674, 'aw': 583, 'ia': 563, 'oo': 505, 'w': 417, 'ee': 413, 'ai': 262, 'aa': 140}) 14\n",
      "all possible tones: Counter({'b': 1985, 'j': 1697, '': 1560, 'v': 1424, 's': 1181, 'g': 967, 'm': 931, 'd': 14}) 8\n"
     ]
    }
   ],
   "source": [
    "from collections import Counter\n",
    "onsets, rhymes, tones = Counter(), Counter(), Counter()\n",
    "for syl in all_syllables:\n",
    "    m = rpa.match(syl)\n",
    "    ons, rhy, ton = m.group(\"ons\"), m.group(\"rhy\"), m.group(\"ton\")\n",
    "    \n",
    "    onsets[ons] += 1\n",
    "    rhymes[rhy] += 1\n",
    "    tones[ton] += 1\n",
    "    \n",
    "print(\"all possible onsets:\", onsets, len(onsets))\n",
    "print(\"all possible rhymes:\", rhymes, len(rhymes))\n",
    "print(\"all possible tones:\", tones, len(tones))"
   ]
  }
 ],
 "metadata": {
  "kernelspec": {
   "display_name": "Python [conda env:py38] *",
   "language": "python",
   "name": "conda-env-py38-py"
  },
  "language_info": {
   "codemirror_mode": {
    "name": "ipython",
    "version": 3
   },
   "file_extension": ".py",
   "mimetype": "text/x-python",
   "name": "python",
   "nbconvert_exporter": "python",
   "pygments_lexer": "ipython3",
   "version": "3.8.2"
  }
 },
 "nbformat": 4,
 "nbformat_minor": 4
}
