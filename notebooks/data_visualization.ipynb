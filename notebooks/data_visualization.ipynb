{
 "cells": [
  {
   "cell_type": "code",
   "execution_count": 5,
   "metadata": {},
   "outputs": [],
   "source": [
    "import pandas as pd\n",
    "import numpy as np\n",
    "import csv"
   ]
  },
  {
   "cell_type": "code",
   "execution_count": 6,
   "metadata": {},
   "outputs": [],
   "source": [
    "df = pd.read_csv(\"../scripts/elabs_extracted.csv\", quoting=csv.QUOTE_ALL)\n"
   ]
  },
  {
   "cell_type": "code",
   "execution_count": 7,
   "metadata": {},
   "outputs": [
    {
     "data": {
      "text/html": [
       "<div>\n",
       "<style scoped>\n",
       "    .dataframe tbody tr th:only-of-type {\n",
       "        vertical-align: middle;\n",
       "    }\n",
       "\n",
       "    .dataframe tbody tr th {\n",
       "        vertical-align: top;\n",
       "    }\n",
       "\n",
       "    .dataframe thead th {\n",
       "        text-align: right;\n",
       "    }\n",
       "</style>\n",
       "<table border=\"1\" class=\"dataframe\">\n",
       "  <thead>\n",
       "    <tr style=\"text-align: right;\">\n",
       "      <th></th>\n",
       "      <th>word1</th>\n",
       "      <th>word2</th>\n",
       "      <th>word3</th>\n",
       "      <th>word4</th>\n",
       "    </tr>\n",
       "  </thead>\n",
       "  <tbody>\n",
       "    <tr>\n",
       "      <th>0</th>\n",
       "      <td>vuag</td>\n",
       "      <td>ub</td>\n",
       "      <td>vuag</td>\n",
       "      <td>no</td>\n",
       "    </tr>\n",
       "    <tr>\n",
       "      <th>1</th>\n",
       "      <td>xaiv</td>\n",
       "      <td>ntsej</td>\n",
       "      <td>xaiv</td>\n",
       "      <td>muag</td>\n",
       "    </tr>\n",
       "    <tr>\n",
       "      <th>2</th>\n",
       "      <td>qhov</td>\n",
       "      <td>phem</td>\n",
       "      <td>qhov</td>\n",
       "      <td>zoo</td>\n",
       "    </tr>\n",
       "    <tr>\n",
       "      <th>3</th>\n",
       "      <td>kev</td>\n",
       "      <td>neej</td>\n",
       "      <td>kev</td>\n",
       "      <td>tsav</td>\n",
       "    </tr>\n",
       "    <tr>\n",
       "      <th>4</th>\n",
       "      <td>tej</td>\n",
       "      <td>nom</td>\n",
       "      <td>tej</td>\n",
       "      <td>tswv</td>\n",
       "    </tr>\n",
       "    <tr>\n",
       "      <th>...</th>\n",
       "      <td>...</td>\n",
       "      <td>...</td>\n",
       "      <td>...</td>\n",
       "      <td>...</td>\n",
       "    </tr>\n",
       "    <tr>\n",
       "      <th>3248</th>\n",
       "      <td>khu</td>\n",
       "      <td>mob</td>\n",
       "      <td>khu</td>\n",
       "      <td>nkees</td>\n",
       "    </tr>\n",
       "    <tr>\n",
       "      <th>3249</th>\n",
       "      <td>cam</td>\n",
       "      <td>mus</td>\n",
       "      <td>cam</td>\n",
       "      <td>los</td>\n",
       "    </tr>\n",
       "    <tr>\n",
       "      <th>3250</th>\n",
       "      <td>me</td>\n",
       "      <td>tes</td>\n",
       "      <td>me</td>\n",
       "      <td>taw</td>\n",
       "    </tr>\n",
       "    <tr>\n",
       "      <th>3251</th>\n",
       "      <td>dig</td>\n",
       "      <td>lwj</td>\n",
       "      <td>dig</td>\n",
       "      <td>liam</td>\n",
       "    </tr>\n",
       "    <tr>\n",
       "      <th>3252</th>\n",
       "      <td>noj</td>\n",
       "      <td>nyuj</td>\n",
       "      <td>noj</td>\n",
       "      <td>twm</td>\n",
       "    </tr>\n",
       "  </tbody>\n",
       "</table>\n",
       "<p>3253 rows × 4 columns</p>\n",
       "</div>"
      ],
      "text/plain": [
       "     word1  word2 word3  word4\n",
       "0     vuag     ub  vuag     no\n",
       "1     xaiv  ntsej  xaiv   muag\n",
       "2     qhov   phem  qhov    zoo\n",
       "3      kev   neej   kev   tsav\n",
       "4      tej    nom   tej   tswv\n",
       "...    ...    ...   ...    ...\n",
       "3248   khu    mob   khu  nkees\n",
       "3249   cam    mus   cam    los\n",
       "3250    me    tes    me    taw\n",
       "3251   dig    lwj   dig   liam\n",
       "3252   noj   nyuj   noj    twm\n",
       "\n",
       "[3253 rows x 4 columns]"
      ]
     },
     "execution_count": 7,
     "metadata": {},
     "output_type": "execute_result"
    }
   ],
   "source": [
    "df"
   ]
  },
  {
   "cell_type": "markdown",
   "metadata": {},
   "source": [
    "How many are ABAC vs ABCB?"
   ]
  },
  {
   "cell_type": "code",
   "execution_count": 8,
   "metadata": {},
   "outputs": [
    {
     "name": "stdout",
     "output_type": "stream",
     "text": [
      "ABAC: 3253\n",
      "ABCB: 0\n"
     ]
    }
   ],
   "source": [
    "print('ABAC:', len(df[df.word1==df.word3]))\n",
    "print('ABCB:', len(df[df.word2==df.word4]))"
   ]
  },
  {
   "cell_type": "markdown",
   "metadata": {},
   "source": [
    "## Test the syllable regex"
   ]
  },
  {
   "cell_type": "code",
   "execution_count": 9,
   "metadata": {},
   "outputs": [],
   "source": [
    "import sys\n",
    "sys.path.append(\"..\")\n",
    "from libraries.hmong_rpa.rpa_regex import RPA_SYLLABLE as rpa"
   ]
  },
  {
   "cell_type": "code",
   "execution_count": 10,
   "metadata": {},
   "outputs": [],
   "source": [
    "all_syllables = df[\"word1\"].tolist() + df[\"word2\"].tolist() + df[\"word4\"].tolist()"
   ]
  },
  {
   "cell_type": "markdown",
   "metadata": {},
   "source": [
    "Changed: in all three regex grammars, \"ua\" is repeated. One of them should be \"au\""
   ]
  },
  {
   "cell_type": "code",
   "execution_count": 11,
   "metadata": {
    "scrolled": true
   },
   "outputs": [
    {
     "name": "stdout",
     "output_type": "stream",
     "text": [
      "wrong composition for nkawd: nk+aw+\n",
      "wrong composition for ntawd: nt+aw+\n",
      "wrong composition for tod: t+o+\n",
      "wrong composition for ped: p+e+\n",
      "wrong composition for ped: p+e+\n",
      "wrong composition for tod: t+o+\n",
      "wrong composition for ped: p+e+\n",
      "wrong composition for tod: t+o+\n",
      "wrong composition for ntusag: nt+u+s\n",
      "wrong composition for ped: p+e+\n",
      "wrong composition for nrad: nr+a+\n",
      "wrong composition for nrad: nr+a+\n",
      "wrong composition for nrad: nr+a+\n",
      "wrong composition for nrad: nr+a+\n",
      "wrong composition for ped: p+e+\n"
     ]
    }
   ],
   "source": [
    "for syl in all_syllables:\n",
    "    m = rpa.match(syl)\n",
    "    ons, rhy, ton = m.group(\"ons\"), m.group(\"rhy\"), m.group(\"ton\")\n",
    "    if not \"rhy\":\n",
    "        print(\"no vowel for\", syl)\n",
    "    if ons+rhy+ton != syl:\n",
    "        print(f\"wrong composition for {syl}: {ons}+{rhy}+{ton}\")"
   ]
  },
  {
   "cell_type": "markdown",
   "metadata": {},
   "source": [
    "One word with a weird \"ntusag\" syllable. Perhaps a mistake in the extraction process or a typo in the corpus?"
   ]
  },
  {
   "cell_type": "code",
   "execution_count": 12,
   "metadata": {},
   "outputs": [
    {
     "data": {
      "text/html": [
       "<div>\n",
       "<style scoped>\n",
       "    .dataframe tbody tr th:only-of-type {\n",
       "        vertical-align: middle;\n",
       "    }\n",
       "\n",
       "    .dataframe tbody tr th {\n",
       "        vertical-align: top;\n",
       "    }\n",
       "\n",
       "    .dataframe thead th {\n",
       "        text-align: right;\n",
       "    }\n",
       "</style>\n",
       "<table border=\"1\" class=\"dataframe\">\n",
       "  <thead>\n",
       "    <tr style=\"text-align: right;\">\n",
       "      <th></th>\n",
       "      <th>word1</th>\n",
       "      <th>word2</th>\n",
       "      <th>word3</th>\n",
       "      <th>word4</th>\n",
       "    </tr>\n",
       "  </thead>\n",
       "  <tbody>\n",
       "    <tr>\n",
       "      <th>362</th>\n",
       "      <td>puj</td>\n",
       "      <td>nrauj</td>\n",
       "      <td>puj</td>\n",
       "      <td>ntusag</td>\n",
       "    </tr>\n",
       "  </tbody>\n",
       "</table>\n",
       "</div>"
      ],
      "text/plain": [
       "    word1  word2 word3   word4\n",
       "362   puj  nrauj   puj  ntusag"
      ]
     },
     "execution_count": 12,
     "metadata": {},
     "output_type": "execute_result"
    }
   ],
   "source": [
    "df[df.word4=='ntusag']"
   ]
  },
  {
   "cell_type": "markdown",
   "metadata": {},
   "source": [
    "A few words that have the 'd' tone, which is not found in rpa. I was going to suggest perhaps these are Dananshan Miao tones, but 'v' doesn't exist in Dananshan (according to Wikipedia) but exist in the same word as the 'd' tones, so I don't know.."
   ]
  },
  {
   "cell_type": "code",
   "execution_count": 13,
   "metadata": {},
   "outputs": [
    {
     "data": {
      "text/html": [
       "<div>\n",
       "<style scoped>\n",
       "    .dataframe tbody tr th:only-of-type {\n",
       "        vertical-align: middle;\n",
       "    }\n",
       "\n",
       "    .dataframe tbody tr th {\n",
       "        vertical-align: top;\n",
       "    }\n",
       "\n",
       "    .dataframe thead th {\n",
       "        text-align: right;\n",
       "    }\n",
       "</style>\n",
       "<table border=\"1\" class=\"dataframe\">\n",
       "  <thead>\n",
       "    <tr style=\"text-align: right;\">\n",
       "      <th></th>\n",
       "      <th>word1</th>\n",
       "      <th>word2</th>\n",
       "      <th>word3</th>\n",
       "      <th>word4</th>\n",
       "    </tr>\n",
       "  </thead>\n",
       "  <tbody>\n",
       "    <tr>\n",
       "      <th>558</th>\n",
       "      <td>plhaw</td>\n",
       "      <td>tod</td>\n",
       "      <td>plhaw</td>\n",
       "      <td>ped</td>\n",
       "    </tr>\n",
       "    <tr>\n",
       "      <th>982</th>\n",
       "      <td>rau</td>\n",
       "      <td>ped</td>\n",
       "      <td>rau</td>\n",
       "      <td>nrad</td>\n",
       "    </tr>\n",
       "    <tr>\n",
       "      <th>1253</th>\n",
       "      <td>yav</td>\n",
       "      <td>ped</td>\n",
       "      <td>yav</td>\n",
       "      <td>nrad</td>\n",
       "    </tr>\n",
       "    <tr>\n",
       "      <th>1377</th>\n",
       "      <td>rau</td>\n",
       "      <td>tod</td>\n",
       "      <td>rau</td>\n",
       "      <td>nrad</td>\n",
       "    </tr>\n",
       "    <tr>\n",
       "      <th>2357</th>\n",
       "      <td>xam</td>\n",
       "      <td>ped</td>\n",
       "      <td>xam</td>\n",
       "      <td>nrad</td>\n",
       "    </tr>\n",
       "    <tr>\n",
       "      <th>2438</th>\n",
       "      <td>yawg</td>\n",
       "      <td>tod</td>\n",
       "      <td>yawg</td>\n",
       "      <td>ped</td>\n",
       "    </tr>\n",
       "    <tr>\n",
       "      <th>3122</th>\n",
       "      <td>nkawd</td>\n",
       "      <td>kwv</td>\n",
       "      <td>nkawd</td>\n",
       "      <td>tij</td>\n",
       "    </tr>\n",
       "    <tr>\n",
       "      <th>3137</th>\n",
       "      <td>ntawd</td>\n",
       "      <td>noj</td>\n",
       "      <td>ntawd</td>\n",
       "      <td>haus</td>\n",
       "    </tr>\n",
       "  </tbody>\n",
       "</table>\n",
       "</div>"
      ],
      "text/plain": [
       "      word1 word2  word3 word4\n",
       "558   plhaw   tod  plhaw   ped\n",
       "982     rau   ped    rau  nrad\n",
       "1253    yav   ped    yav  nrad\n",
       "1377    rau   tod    rau  nrad\n",
       "2357    xam   ped    xam  nrad\n",
       "2438   yawg   tod   yawg   ped\n",
       "3122  nkawd   kwv  nkawd   tij\n",
       "3137  ntawd   noj  ntawd  haus"
      ]
     },
     "execution_count": 13,
     "metadata": {},
     "output_type": "execute_result"
    }
   ],
   "source": [
    "df[df.word1.str.endswith('d')|df.word2.str.endswith('d')|df.word4.str.endswith('d')]"
   ]
  }
 ],
 "metadata": {
  "kernelspec": {
   "display_name": "Python [conda env:py38] *",
   "language": "python",
   "name": "conda-env-py38-py"
  },
  "language_info": {
   "codemirror_mode": {
    "name": "ipython",
    "version": 3
   },
   "file_extension": ".py",
   "mimetype": "text/x-python",
   "name": "python",
   "nbconvert_exporter": "python",
   "pygments_lexer": "ipython3",
   "version": "3.8.2"
  }
 },
 "nbformat": 4,
 "nbformat_minor": 4
}
