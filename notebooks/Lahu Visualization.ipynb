{
 "cells": [
  {
   "cell_type": "code",
   "execution_count": 13,
   "metadata": {},
   "outputs": [],
   "source": [
    "import sys\n",
    "sys.path.append(\"..\")\n",
    "import numpy as np\n",
    "import pandas as pd\n",
    "import csv, os, re"
   ]
  },
  {
   "cell_type": "markdown",
   "metadata": {},
   "source": [
    "# Clean up word list"
   ]
  },
  {
   "cell_type": "code",
   "execution_count": 9,
   "metadata": {},
   "outputs": [],
   "source": [
    "dfraw = pd.read_csv(\"../data/lahu/elabs_from_ell/lahu-elabs.txt\", sep='\\t', names=['expression', 'type', 'gloss'])"
   ]
  },
  {
   "cell_type": "code",
   "execution_count": 10,
   "metadata": {
    "scrolled": false
   },
   "outputs": [
    {
     "data": {
      "text/plain": [
       "Elabn                1243\n",
       "Elabv                 742\n",
       "Elabadv               216\n",
       "Elabq                  68\n",
       "Extended Elabn         45\n",
       "Elabtime               11\n",
       "Extended Elabv          6\n",
       "Extended Elabadv        5\n",
       "Elabv; Elabadv          5\n",
       "Elab                    4\n",
       "Elabext                 3\n",
       "Elabv's                 3\n",
       "ElabN-deverb            2\n",
       "Elabn; Elabadv          2\n",
       "Extended Elab           2\n",
       "Elab couplet            2\n",
       "Elabv; Elabn            2\n",
       "Elab Couplet            1\n",
       "Elabn-intens            1\n",
       "Elabn-deverb            1\n",
       "Elabq-time              1\n",
       "QQ or Elabq             1\n",
       "Extended Elabq          1\n",
       "ElabNPq                 1\n",
       "Extended Elabtime       1\n",
       "AE; Elabadv             1\n",
       "Elabadv; Elabn          1\n",
       "Elabv/adv               1\n",
       "Name: type, dtype: int64"
      ]
     },
     "execution_count": 10,
     "metadata": {},
     "output_type": "execute_result"
    }
   ],
   "source": [
    "dfraw.type.value_counts()"
   ]
  },
  {
   "cell_type": "code",
   "execution_count": 23,
   "metadata": {},
   "outputs": [],
   "source": [
    "def elab_order_type(w1, w2, w3, w4):\n",
    "    if w1 == w3 and w2 != w4:\n",
    "        return 'ABAC'\n",
    "    if w2 == w4 and w1 != w3:\n",
    "        return 'ABCB'\n",
    "    else:\n",
    "        return None\n",
    "\n",
    "def segment(expr):\n",
    "    expr = re.sub(r'\\([^)]*\\)', '', expr) # delete optional phonemes\n",
    "    if '~' in expr:\n",
    "        expr = expr.split('~')[0].strip()  # take the first pronunciation if multiple\n",
    "    if '=' in expr or '+' in expr:  \n",
    "        return None  # exclude all words with '=' or '+' in it \n",
    "    if '...' in expr or 'Num1' in expr:\n",
    "        return None\n",
    "    \n",
    "    expr = expr.replace('-', ' ')\n",
    "    words = expr.split()[:4]\n",
    "    if len(words) < 4:\n",
    "        # e.g. expr == \"mû ... mì\"\n",
    "        return None\n",
    "    if elab_order_type(*words) is None:\n",
    "        return None\n",
    "    for i in range(4):\n",
    "        if '/' in words[i]:\n",
    "            words[i] = words[i].split('/')[0]\n",
    "\n",
    "    return tuple(words)"
   ]
  },
  {
   "cell_type": "code",
   "execution_count": 27,
   "metadata": {},
   "outputs": [
    {
     "name": "stdout",
     "output_type": "stream",
     "text": [
      "1540\n"
     ]
    }
   ],
   "source": [
    "extracted_EEs = set([ee for ee in dfraw.expression.apply(segment).tolist() if ee])\n",
    "print(len(extracted_EEs))\n",
    "extracted_EEs = sorted(list(extracted_EEs))"
   ]
  },
  {
   "cell_type": "code",
   "execution_count": 28,
   "metadata": {},
   "outputs": [],
   "source": [
    "pd.DataFrame(extracted_EEs, columns=['word1','word2', 'word3', 'word4']).to_csv(\"../data/lahu/elabs_from_ell/elabs_extracted.csv\", index=False, quoting=csv.QUOTE_ALL)"
   ]
  },
  {
   "cell_type": "markdown",
   "metadata": {},
   "source": [
    "# Test the syllable regex"
   ]
  },
  {
   "cell_type": "code",
   "execution_count": 29,
   "metadata": {},
   "outputs": [],
   "source": [
    "df = pd.read_csv(\"../data/lahu/elabs_from_ell/elabs_extracted.csv\", quoting=csv.QUOTE_ALL)"
   ]
  },
  {
   "cell_type": "code",
   "execution_count": 30,
   "metadata": {},
   "outputs": [
    {
     "data": {
      "text/html": [
       "<div>\n",
       "<style scoped>\n",
       "    .dataframe tbody tr th:only-of-type {\n",
       "        vertical-align: middle;\n",
       "    }\n",
       "\n",
       "    .dataframe tbody tr th {\n",
       "        vertical-align: top;\n",
       "    }\n",
       "\n",
       "    .dataframe thead th {\n",
       "        text-align: right;\n",
       "    }\n",
       "</style>\n",
       "<table border=\"1\" class=\"dataframe\">\n",
       "  <thead>\n",
       "    <tr style=\"text-align: right;\">\n",
       "      <th></th>\n",
       "      <th>word1</th>\n",
       "      <th>word2</th>\n",
       "      <th>word3</th>\n",
       "      <th>word4</th>\n",
       "    </tr>\n",
       "  </thead>\n",
       "  <tbody>\n",
       "    <tr>\n",
       "      <th>0</th>\n",
       "      <td>a</td>\n",
       "      <td>dɔ̂</td>\n",
       "      <td>a</td>\n",
       "      <td>gâ</td>\n",
       "    </tr>\n",
       "    <tr>\n",
       "      <th>1</th>\n",
       "      <td>a</td>\n",
       "      <td>ni</td>\n",
       "      <td>šɨ̂ʔ</td>\n",
       "      <td>ni</td>\n",
       "    </tr>\n",
       "    <tr>\n",
       "      <th>2</th>\n",
       "      <td>a</td>\n",
       "      <td>pa</td>\n",
       "      <td>a</td>\n",
       "      <td>nɛ̀ʔ</td>\n",
       "    </tr>\n",
       "    <tr>\n",
       "      <th>3</th>\n",
       "      <td>a</td>\n",
       "      <td>pū</td>\n",
       "      <td>a</td>\n",
       "      <td>pi</td>\n",
       "    </tr>\n",
       "    <tr>\n",
       "      <th>4</th>\n",
       "      <td>a</td>\n",
       "      <td>šàʔ</td>\n",
       "      <td>a</td>\n",
       "      <td>yûʔ</td>\n",
       "    </tr>\n",
       "    <tr>\n",
       "      <th>...</th>\n",
       "      <td>...</td>\n",
       "      <td>...</td>\n",
       "      <td>...</td>\n",
       "      <td>...</td>\n",
       "    </tr>\n",
       "    <tr>\n",
       "      <th>1535</th>\n",
       "      <td>ɨ̄</td>\n",
       "      <td>la</td>\n",
       "      <td>mâ</td>\n",
       "      <td>la</td>\n",
       "    </tr>\n",
       "    <tr>\n",
       "      <th>1536</th>\n",
       "      <td>ɨ̄</td>\n",
       "      <td>la</td>\n",
       "      <td>mu</td>\n",
       "      <td>la</td>\n",
       "    </tr>\n",
       "    <tr>\n",
       "      <th>1537</th>\n",
       "      <td>ɨ̄</td>\n",
       "      <td>mɨ̀</td>\n",
       "      <td>câʔ</td>\n",
       "      <td>mɨ̀</td>\n",
       "    </tr>\n",
       "    <tr>\n",
       "      <th>1538</th>\n",
       "      <td>ɨ̄</td>\n",
       "      <td>qay</td>\n",
       "      <td>mu</td>\n",
       "      <td>qay</td>\n",
       "    </tr>\n",
       "    <tr>\n",
       "      <th>1539</th>\n",
       "      <td>ɨ̄</td>\n",
       "      <td>ša</td>\n",
       "      <td>mu</td>\n",
       "      <td>ša</td>\n",
       "    </tr>\n",
       "  </tbody>\n",
       "</table>\n",
       "<p>1540 rows × 4 columns</p>\n",
       "</div>"
      ],
      "text/plain": [
       "     word1  word2  word3 word4\n",
       "0        a    dɔ̂      a   gâ\n",
       "1        a     ni  šɨ̂ʔ    ni\n",
       "2        a     pa      a  nɛ̀ʔ\n",
       "3        a    pū      a    pi\n",
       "4        a  šàʔ      a  yûʔ\n",
       "...    ...    ...    ...   ...\n",
       "1535    ɨ̄     la    mâ    la\n",
       "1536    ɨ̄     la     mu    la\n",
       "1537    ɨ̄    mɨ̀   câʔ   mɨ̀\n",
       "1538    ɨ̄    qay     mu   qay\n",
       "1539    ɨ̄    ša     mu   ša\n",
       "\n",
       "[1540 rows x 4 columns]"
      ]
     },
     "execution_count": 30,
     "metadata": {},
     "output_type": "execute_result"
    }
   ],
   "source": [
    "df"
   ]
  },
  {
   "cell_type": "code",
   "execution_count": 31,
   "metadata": {},
   "outputs": [],
   "source": [
    "from libraries.lahu_jam.lahu_jam_regex import LAHU_REGEX as lahu\n",
    "all_syllables = set(df[\"word1\"].tolist() + df[\"word2\"].tolist() + df[\"word3\"].tolist() + df[\"word4\"].tolist())"
   ]
  },
  {
   "cell_type": "code",
   "execution_count": 33,
   "metadata": {},
   "outputs": [
    {
     "name": "stdout",
     "output_type": "stream",
     "text": [
      "šwɛ̀ ??\n",
      "cwí ??\n",
      "wrong composition for lāy: l+a+̄\n",
      "wrong composition for kɛ̀w: k+ɛ+̀\n",
      "wrong composition for qhaw: qh+a+\n",
      "bwɛ̂ ??\n",
      "wrong composition for līn: l+i+̄\n",
      "ywɛ̂ ??\n",
      "wrong composition for hày: h+a+̀\n",
      "wrong composition for khān: kh+a+̄\n",
      "wrong composition for hây: h+a+̂\n",
      "wrong composition for in: +i+\n",
      "ywɛ ??\n",
      "cwɛ̂ ??\n",
      "wrong composition for phašá: ph+a+\n",
      "wrong composition for hán: h+a+́\n",
      "wrong composition for qhay: qh+a+\n",
      "wrong composition for yōn: y+o+̄\n",
      "cwɛ̀ ??\n",
      "wrong composition for qháy: qh+a+́\n",
      "wrong composition for nây: n+a+̂\n",
      "wrong composition for våy: v+a+\n",
      "wrong composition for vân: v+a+̂\n",
      "X ??\n",
      "kwâ ??\n",
      "wrong composition for hân: h+a+̂\n",
      "wrong composition for mə̂n: m+ə+̂\n",
      "wrong composition for qhə̄n: qh+ə+̄\n",
      "wrong composition for kán: k+a+́\n",
      "hwɛ̄ ??\n",
      "wrong composition for tàn: t+a+̀\n",
      "twɛ ??\n",
      "wrong composition for thāy: th+a+̄\n",
      "wrong composition for vây: v+a+̂\n",
      "wrong composition for law: l+a+\n",
      "wrong composition for cāw: c+a+̄\n",
      "pwɛ̂ ??\n",
      "wrong composition for hɛ̂n: h+ɛ+̂\n",
      "wrong composition for phôn: ph+o+̂\n",
      "wrong composition for šɛ́n: š+ɛ+́\n",
      "wrong composition for qàw: q+a+̀\n",
      "pwɛ̄ ??\n",
      "wrong composition for lây: l+a+̂\n",
      "wrong composition for pən: p+ə+\n",
      "wrong composition for tân: t+a+̂\n",
      "nwɛ̀ ??\n",
      "wrong composition for láy: l+a+́\n",
      "wrong composition for chêʔ,: ch+e+̂ʔ\n",
      "wrong composition for fây: f+a+̂\n",
      "wrong composition for qay: q+a+\n",
      "wrong composition for yân: y+a+̂\n",
      "wrong composition for lů: l+u+\n",
      "wrong composition for cala: c+a+\n",
      "hwɛ̀ ??\n",
      "wrong composition for thāw: th+a+̄\n",
      "pyɔ̄ ??\n",
      "wrong composition for qāw: q+a+̄\n",
      "wrong composition for yān: y+a+̄\n",
      "hwē ??\n",
      "wrong composition for tāy: t+a+̄\n",
      "cwe ??\n",
      "hwɛ̂ ??\n",
      "wrong composition for càw: c+a+̀\n",
      "wrong composition for kàw: k+a+̀\n",
      "phyú ??\n",
      "wrong composition for pòn: p+o+̀\n",
      "twɛ̂ ??\n",
      "wrong composition for chɨlɔ: ch+ɨ+\n",
      "wrong composition for bon: b+o+\n",
      "wrong composition for yan: y+a+\n",
      "640 710\n"
     ]
    }
   ],
   "source": [
    "ok = 0\n",
    "for syl in all_syllables:\n",
    "    m = lahu.match(syl)\n",
    "    if m is None:\n",
    "        print(syl, \"??\")\n",
    "        continue\n",
    "    ons, rhy, ton = m.group(\"ons\"), m.group(\"rhy\"), m.group(\"ton\")\n",
    "    if not \"rhy\":\n",
    "        print(\"no vowel for\", syl)\n",
    "    elif ons+rhy+ton != syl:\n",
    "        print(f\"wrong composition for {syl}: {ons}+{rhy}+{ton}\")\n",
    "    else:\n",
    "        ok += 1\n",
    "print(ok, len(all_syllables))"
   ]
  },
  {
   "cell_type": "code",
   "execution_count": 70,
   "metadata": {},
   "outputs": [],
   "source": [
    "s = \"ɔ̀\""
   ]
  },
  {
   "cell_type": "code",
   "execution_count": 80,
   "metadata": {},
   "outputs": [
    {
     "data": {
      "text/plain": [
       "'ɔ'"
      ]
     },
     "execution_count": 80,
     "metadata": {},
     "output_type": "execute_result"
    }
   ],
   "source": [
    "s[0]"
   ]
  }
 ],
 "metadata": {
  "kernelspec": {
   "display_name": "Python [conda env:py38] *",
   "language": "python",
   "name": "conda-env-py38-py"
  },
  "language_info": {
   "codemirror_mode": {
    "name": "ipython",
    "version": 3
   },
   "file_extension": ".py",
   "mimetype": "text/x-python",
   "name": "python",
   "nbconvert_exporter": "python",
   "pygments_lexer": "ipython3",
   "version": "3.8.2"
  }
 },
 "nbformat": 4,
 "nbformat_minor": 4
}
