{
 "cells": [
  {
   "cell_type": "code",
   "execution_count": 11,
   "metadata": {},
   "outputs": [],
   "source": [
    "import sys\n",
    "sys.path.append(\"..\")\n",
    "\n",
    "import pandas as pd\n",
    "import numpy as np\n",
    "import csv\n",
    "from libraries.hmong_rpa.rpa_regex import RPA_SYLLABLE as rpa"
   ]
  },
  {
   "cell_type": "code",
   "execution_count": 2,
   "metadata": {},
   "outputs": [],
   "source": [
    "df = pd.read_csv(\"../scripts/elabs_extracted.csv\", quoting=csv.QUOTE_ALL)"
   ]
  },
  {
   "cell_type": "code",
   "execution_count": 3,
   "metadata": {},
   "outputs": [
    {
     "data": {
      "text/html": [
       "<div>\n",
       "<style scoped>\n",
       "    .dataframe tbody tr th:only-of-type {\n",
       "        vertical-align: middle;\n",
       "    }\n",
       "\n",
       "    .dataframe tbody tr th {\n",
       "        vertical-align: top;\n",
       "    }\n",
       "\n",
       "    .dataframe thead th {\n",
       "        text-align: right;\n",
       "    }\n",
       "</style>\n",
       "<table border=\"1\" class=\"dataframe\">\n",
       "  <thead>\n",
       "    <tr style=\"text-align: right;\">\n",
       "      <th></th>\n",
       "      <th>word1</th>\n",
       "      <th>word2</th>\n",
       "      <th>word3</th>\n",
       "      <th>word4</th>\n",
       "    </tr>\n",
       "  </thead>\n",
       "  <tbody>\n",
       "    <tr>\n",
       "      <th>0</th>\n",
       "      <td>vuag</td>\n",
       "      <td>ub</td>\n",
       "      <td>vuag</td>\n",
       "      <td>no</td>\n",
       "    </tr>\n",
       "    <tr>\n",
       "      <th>1</th>\n",
       "      <td>xaiv</td>\n",
       "      <td>ntsej</td>\n",
       "      <td>xaiv</td>\n",
       "      <td>muag</td>\n",
       "    </tr>\n",
       "    <tr>\n",
       "      <th>2</th>\n",
       "      <td>qhov</td>\n",
       "      <td>phem</td>\n",
       "      <td>qhov</td>\n",
       "      <td>zoo</td>\n",
       "    </tr>\n",
       "    <tr>\n",
       "      <th>3</th>\n",
       "      <td>kev</td>\n",
       "      <td>neej</td>\n",
       "      <td>kev</td>\n",
       "      <td>tsav</td>\n",
       "    </tr>\n",
       "    <tr>\n",
       "      <th>4</th>\n",
       "      <td>tej</td>\n",
       "      <td>nom</td>\n",
       "      <td>tej</td>\n",
       "      <td>tswv</td>\n",
       "    </tr>\n",
       "    <tr>\n",
       "      <th>...</th>\n",
       "      <td>...</td>\n",
       "      <td>...</td>\n",
       "      <td>...</td>\n",
       "      <td>...</td>\n",
       "    </tr>\n",
       "    <tr>\n",
       "      <th>3248</th>\n",
       "      <td>khu</td>\n",
       "      <td>mob</td>\n",
       "      <td>khu</td>\n",
       "      <td>nkees</td>\n",
       "    </tr>\n",
       "    <tr>\n",
       "      <th>3249</th>\n",
       "      <td>cam</td>\n",
       "      <td>mus</td>\n",
       "      <td>cam</td>\n",
       "      <td>los</td>\n",
       "    </tr>\n",
       "    <tr>\n",
       "      <th>3250</th>\n",
       "      <td>me</td>\n",
       "      <td>tes</td>\n",
       "      <td>me</td>\n",
       "      <td>taw</td>\n",
       "    </tr>\n",
       "    <tr>\n",
       "      <th>3251</th>\n",
       "      <td>dig</td>\n",
       "      <td>lwj</td>\n",
       "      <td>dig</td>\n",
       "      <td>liam</td>\n",
       "    </tr>\n",
       "    <tr>\n",
       "      <th>3252</th>\n",
       "      <td>noj</td>\n",
       "      <td>nyuj</td>\n",
       "      <td>noj</td>\n",
       "      <td>twm</td>\n",
       "    </tr>\n",
       "  </tbody>\n",
       "</table>\n",
       "<p>3253 rows × 4 columns</p>\n",
       "</div>"
      ],
      "text/plain": [
       "     word1  word2 word3  word4\n",
       "0     vuag     ub  vuag     no\n",
       "1     xaiv  ntsej  xaiv   muag\n",
       "2     qhov   phem  qhov    zoo\n",
       "3      kev   neej   kev   tsav\n",
       "4      tej    nom   tej   tswv\n",
       "...    ...    ...   ...    ...\n",
       "3248   khu    mob   khu  nkees\n",
       "3249   cam    mus   cam    los\n",
       "3250    me    tes    me    taw\n",
       "3251   dig    lwj   dig   liam\n",
       "3252   noj   nyuj   noj    twm\n",
       "\n",
       "[3253 rows x 4 columns]"
      ]
     },
     "execution_count": 3,
     "metadata": {},
     "output_type": "execute_result"
    }
   ],
   "source": [
    "df"
   ]
  },
  {
   "cell_type": "markdown",
   "metadata": {},
   "source": [
    "# Word order classification\n",
    "\n",
    "Before training anything though, how would a rule-based classifier do?\n",
    "\n",
    "Based on the A -> D -> B -> C and 2 -> 1 orderings, the tones should be ordered like this:\n",
    "[j, b, m, s, s/g, v, g, 0]\n",
    "\n",
    "we have to ignore the B2 split here and just work with [j, b, m, s, v, g, 0]\n"
   ]
  },
  {
   "cell_type": "code",
   "execution_count": 87,
   "metadata": {},
   "outputs": [],
   "source": [
    "def add_rule_prediction(df0):\n",
    "    def sgn(x):\n",
    "        return 0 if x==0 else x//abs(x)\n",
    "    \n",
    "    df = df0.copy()\n",
    "    orders = {'j': 1,\n",
    "              'b': 2,\n",
    "              'm': 3, 'd': 3,\n",
    "              's': 4,\n",
    "              'v': 5,\n",
    "              'g': 6,\n",
    "              '' : 7}\n",
    "    df['rule_pred'] = (df['word4'].apply(lambda syl: orders[rpa.match(syl).group(\"ton\")]) - \n",
    "                        df['word2'].apply(lambda syl: orders[rpa.match(syl).group(\"ton\")]) )\n",
    "    df['rule_pred'] = df['rule_pred'].apply(sgn)\n",
    "    return df"
   ]
  },
  {
   "cell_type": "code",
   "execution_count": 93,
   "metadata": {},
   "outputs": [],
   "source": [
    "res = add_rule_prediction(df)['rule_pred'].value_counts().to_dict()"
   ]
  },
  {
   "cell_type": "code",
   "execution_count": 97,
   "metadata": {},
   "outputs": [
    {
     "name": "stdout",
     "output_type": "stream",
     "text": [
      "Correct: 0.8383031048263142\n",
      "Tie: 0.09007070396557024\n",
      "Incorrect: 0.07162619120811559\n",
      "\n",
      "Correct with random guess: 0.8833384568090993\n",
      "Incorrect with random guess: 0.1166615431909007\n"
     ]
    }
   ],
   "source": [
    "print(f'Correct: {res[1]/len(df)}')\n",
    "print(f'Tie: {res[0]/len(df)}')\n",
    "print(f'Incorrect: {res[-1]/len(df)}')\n",
    "print()\n",
    "print(f'Correct with random guess: {res[1]/len(df) + res[0]/len(df)/2}')\n",
    "print(f'Incorrect with random guess: {res[-1]/len(df) + res[0]/len(df)/2}')"
   ]
  },
  {
   "cell_type": "markdown",
   "metadata": {},
   "source": [
    "## Prepare one hot data\n",
    "\n",
    "add these columns to the data, for each i=1,2,3,4:\n",
    "- wi_ton_b\n",
    "- wi_ton_0\n",
    "- wi_ton_s\n",
    "- wi_ton_j\n",
    "- wi_ton_v\n",
    "- wi_ton_m\n",
    "- wi_ton_g\n"
   ]
  },
  {
   "cell_type": "code",
   "execution_count": 32,
   "metadata": {},
   "outputs": [],
   "source": [
    "def add_unattested_data(df0):\n",
    "    df = df0.copy()\n",
    "    df['attested'] = True\n",
    "    # for each ABAC phrase, add ACAB phrase\n",
    "    unattested = df.rename(columns={'word2': 'word4', 'word4': 'word2'})\n",
    "    unattested['attested'] = False\n",
    "    return df.append(unattested, ignore_index=True)\n",
    "\n",
    "def add_onehot_features(df0):\n",
    "    df = df0.copy()\n",
    "    # for each of the four words, add onehot vector of each tone\n",
    "    for i in (1, 2, 3, 4):\n",
    "        for ton in 'b0sjvmg':\n",
    "            if ton == '0':\n",
    "                df[f'w{i}_ton_0'] = df[f'word{i}'].apply(lambda syl: rpa.match(syl).group(\"ton\")=='')\n",
    "            else:\n",
    "                df[f'w{i}_ton_{ton}'] = df[f'word{i}'].str.endswith(ton)\n",
    "    return df"
   ]
  },
  {
   "cell_type": "code",
   "execution_count": 33,
   "metadata": {},
   "outputs": [
    {
     "data": {
      "text/html": [
       "<div>\n",
       "<style scoped>\n",
       "    .dataframe tbody tr th:only-of-type {\n",
       "        vertical-align: middle;\n",
       "    }\n",
       "\n",
       "    .dataframe tbody tr th {\n",
       "        vertical-align: top;\n",
       "    }\n",
       "\n",
       "    .dataframe thead th {\n",
       "        text-align: right;\n",
       "    }\n",
       "</style>\n",
       "<table border=\"1\" class=\"dataframe\">\n",
       "  <thead>\n",
       "    <tr style=\"text-align: right;\">\n",
       "      <th></th>\n",
       "      <th>attested</th>\n",
       "      <th>w1_ton_b</th>\n",
       "      <th>w1_ton_0</th>\n",
       "      <th>w1_ton_s</th>\n",
       "      <th>w1_ton_j</th>\n",
       "      <th>w1_ton_v</th>\n",
       "      <th>w1_ton_m</th>\n",
       "      <th>w1_ton_g</th>\n",
       "      <th>w2_ton_b</th>\n",
       "      <th>w2_ton_0</th>\n",
       "      <th>...</th>\n",
       "      <th>w3_ton_v</th>\n",
       "      <th>w3_ton_m</th>\n",
       "      <th>w3_ton_g</th>\n",
       "      <th>w4_ton_b</th>\n",
       "      <th>w4_ton_0</th>\n",
       "      <th>w4_ton_s</th>\n",
       "      <th>w4_ton_j</th>\n",
       "      <th>w4_ton_v</th>\n",
       "      <th>w4_ton_m</th>\n",
       "      <th>w4_ton_g</th>\n",
       "    </tr>\n",
       "  </thead>\n",
       "  <tbody>\n",
       "    <tr>\n",
       "      <th>0</th>\n",
       "      <td>True</td>\n",
       "      <td>False</td>\n",
       "      <td>False</td>\n",
       "      <td>False</td>\n",
       "      <td>False</td>\n",
       "      <td>False</td>\n",
       "      <td>False</td>\n",
       "      <td>True</td>\n",
       "      <td>True</td>\n",
       "      <td>False</td>\n",
       "      <td>...</td>\n",
       "      <td>False</td>\n",
       "      <td>False</td>\n",
       "      <td>True</td>\n",
       "      <td>False</td>\n",
       "      <td>True</td>\n",
       "      <td>False</td>\n",
       "      <td>False</td>\n",
       "      <td>False</td>\n",
       "      <td>False</td>\n",
       "      <td>False</td>\n",
       "    </tr>\n",
       "    <tr>\n",
       "      <th>1</th>\n",
       "      <td>True</td>\n",
       "      <td>False</td>\n",
       "      <td>False</td>\n",
       "      <td>False</td>\n",
       "      <td>False</td>\n",
       "      <td>True</td>\n",
       "      <td>False</td>\n",
       "      <td>False</td>\n",
       "      <td>False</td>\n",
       "      <td>False</td>\n",
       "      <td>...</td>\n",
       "      <td>True</td>\n",
       "      <td>False</td>\n",
       "      <td>False</td>\n",
       "      <td>False</td>\n",
       "      <td>False</td>\n",
       "      <td>False</td>\n",
       "      <td>False</td>\n",
       "      <td>False</td>\n",
       "      <td>False</td>\n",
       "      <td>True</td>\n",
       "    </tr>\n",
       "    <tr>\n",
       "      <th>2</th>\n",
       "      <td>True</td>\n",
       "      <td>False</td>\n",
       "      <td>False</td>\n",
       "      <td>False</td>\n",
       "      <td>False</td>\n",
       "      <td>True</td>\n",
       "      <td>False</td>\n",
       "      <td>False</td>\n",
       "      <td>False</td>\n",
       "      <td>False</td>\n",
       "      <td>...</td>\n",
       "      <td>True</td>\n",
       "      <td>False</td>\n",
       "      <td>False</td>\n",
       "      <td>False</td>\n",
       "      <td>True</td>\n",
       "      <td>False</td>\n",
       "      <td>False</td>\n",
       "      <td>False</td>\n",
       "      <td>False</td>\n",
       "      <td>False</td>\n",
       "    </tr>\n",
       "    <tr>\n",
       "      <th>3</th>\n",
       "      <td>True</td>\n",
       "      <td>False</td>\n",
       "      <td>False</td>\n",
       "      <td>False</td>\n",
       "      <td>False</td>\n",
       "      <td>True</td>\n",
       "      <td>False</td>\n",
       "      <td>False</td>\n",
       "      <td>False</td>\n",
       "      <td>False</td>\n",
       "      <td>...</td>\n",
       "      <td>True</td>\n",
       "      <td>False</td>\n",
       "      <td>False</td>\n",
       "      <td>False</td>\n",
       "      <td>False</td>\n",
       "      <td>False</td>\n",
       "      <td>False</td>\n",
       "      <td>True</td>\n",
       "      <td>False</td>\n",
       "      <td>False</td>\n",
       "    </tr>\n",
       "    <tr>\n",
       "      <th>4</th>\n",
       "      <td>True</td>\n",
       "      <td>False</td>\n",
       "      <td>False</td>\n",
       "      <td>False</td>\n",
       "      <td>True</td>\n",
       "      <td>False</td>\n",
       "      <td>False</td>\n",
       "      <td>False</td>\n",
       "      <td>False</td>\n",
       "      <td>False</td>\n",
       "      <td>...</td>\n",
       "      <td>False</td>\n",
       "      <td>False</td>\n",
       "      <td>False</td>\n",
       "      <td>False</td>\n",
       "      <td>False</td>\n",
       "      <td>False</td>\n",
       "      <td>False</td>\n",
       "      <td>True</td>\n",
       "      <td>False</td>\n",
       "      <td>False</td>\n",
       "    </tr>\n",
       "    <tr>\n",
       "      <th>...</th>\n",
       "      <td>...</td>\n",
       "      <td>...</td>\n",
       "      <td>...</td>\n",
       "      <td>...</td>\n",
       "      <td>...</td>\n",
       "      <td>...</td>\n",
       "      <td>...</td>\n",
       "      <td>...</td>\n",
       "      <td>...</td>\n",
       "      <td>...</td>\n",
       "      <td>...</td>\n",
       "      <td>...</td>\n",
       "      <td>...</td>\n",
       "      <td>...</td>\n",
       "      <td>...</td>\n",
       "      <td>...</td>\n",
       "      <td>...</td>\n",
       "      <td>...</td>\n",
       "      <td>...</td>\n",
       "      <td>...</td>\n",
       "      <td>...</td>\n",
       "    </tr>\n",
       "    <tr>\n",
       "      <th>6501</th>\n",
       "      <td>False</td>\n",
       "      <td>False</td>\n",
       "      <td>True</td>\n",
       "      <td>False</td>\n",
       "      <td>False</td>\n",
       "      <td>False</td>\n",
       "      <td>False</td>\n",
       "      <td>False</td>\n",
       "      <td>False</td>\n",
       "      <td>False</td>\n",
       "      <td>...</td>\n",
       "      <td>False</td>\n",
       "      <td>False</td>\n",
       "      <td>False</td>\n",
       "      <td>True</td>\n",
       "      <td>False</td>\n",
       "      <td>False</td>\n",
       "      <td>False</td>\n",
       "      <td>False</td>\n",
       "      <td>False</td>\n",
       "      <td>False</td>\n",
       "    </tr>\n",
       "    <tr>\n",
       "      <th>6502</th>\n",
       "      <td>False</td>\n",
       "      <td>False</td>\n",
       "      <td>False</td>\n",
       "      <td>False</td>\n",
       "      <td>False</td>\n",
       "      <td>False</td>\n",
       "      <td>True</td>\n",
       "      <td>False</td>\n",
       "      <td>False</td>\n",
       "      <td>False</td>\n",
       "      <td>...</td>\n",
       "      <td>False</td>\n",
       "      <td>True</td>\n",
       "      <td>False</td>\n",
       "      <td>False</td>\n",
       "      <td>False</td>\n",
       "      <td>True</td>\n",
       "      <td>False</td>\n",
       "      <td>False</td>\n",
       "      <td>False</td>\n",
       "      <td>False</td>\n",
       "    </tr>\n",
       "    <tr>\n",
       "      <th>6503</th>\n",
       "      <td>False</td>\n",
       "      <td>False</td>\n",
       "      <td>True</td>\n",
       "      <td>False</td>\n",
       "      <td>False</td>\n",
       "      <td>False</td>\n",
       "      <td>False</td>\n",
       "      <td>False</td>\n",
       "      <td>False</td>\n",
       "      <td>True</td>\n",
       "      <td>...</td>\n",
       "      <td>False</td>\n",
       "      <td>False</td>\n",
       "      <td>False</td>\n",
       "      <td>False</td>\n",
       "      <td>False</td>\n",
       "      <td>True</td>\n",
       "      <td>False</td>\n",
       "      <td>False</td>\n",
       "      <td>False</td>\n",
       "      <td>False</td>\n",
       "    </tr>\n",
       "    <tr>\n",
       "      <th>6504</th>\n",
       "      <td>False</td>\n",
       "      <td>False</td>\n",
       "      <td>False</td>\n",
       "      <td>False</td>\n",
       "      <td>False</td>\n",
       "      <td>False</td>\n",
       "      <td>False</td>\n",
       "      <td>True</td>\n",
       "      <td>False</td>\n",
       "      <td>False</td>\n",
       "      <td>...</td>\n",
       "      <td>False</td>\n",
       "      <td>False</td>\n",
       "      <td>True</td>\n",
       "      <td>False</td>\n",
       "      <td>False</td>\n",
       "      <td>False</td>\n",
       "      <td>True</td>\n",
       "      <td>False</td>\n",
       "      <td>False</td>\n",
       "      <td>False</td>\n",
       "    </tr>\n",
       "    <tr>\n",
       "      <th>6505</th>\n",
       "      <td>False</td>\n",
       "      <td>False</td>\n",
       "      <td>False</td>\n",
       "      <td>False</td>\n",
       "      <td>True</td>\n",
       "      <td>False</td>\n",
       "      <td>False</td>\n",
       "      <td>False</td>\n",
       "      <td>False</td>\n",
       "      <td>False</td>\n",
       "      <td>...</td>\n",
       "      <td>False</td>\n",
       "      <td>False</td>\n",
       "      <td>False</td>\n",
       "      <td>False</td>\n",
       "      <td>False</td>\n",
       "      <td>False</td>\n",
       "      <td>True</td>\n",
       "      <td>False</td>\n",
       "      <td>False</td>\n",
       "      <td>False</td>\n",
       "    </tr>\n",
       "  </tbody>\n",
       "</table>\n",
       "<p>6506 rows × 29 columns</p>\n",
       "</div>"
      ],
      "text/plain": [
       "      attested  w1_ton_b  w1_ton_0  w1_ton_s  w1_ton_j  w1_ton_v  w1_ton_m  \\\n",
       "0         True     False     False     False     False     False     False   \n",
       "1         True     False     False     False     False      True     False   \n",
       "2         True     False     False     False     False      True     False   \n",
       "3         True     False     False     False     False      True     False   \n",
       "4         True     False     False     False      True     False     False   \n",
       "...        ...       ...       ...       ...       ...       ...       ...   \n",
       "6501     False     False      True     False     False     False     False   \n",
       "6502     False     False     False     False     False     False      True   \n",
       "6503     False     False      True     False     False     False     False   \n",
       "6504     False     False     False     False     False     False     False   \n",
       "6505     False     False     False     False      True     False     False   \n",
       "\n",
       "      w1_ton_g  w2_ton_b  w2_ton_0  ...  w3_ton_v  w3_ton_m  w3_ton_g  \\\n",
       "0         True      True     False  ...     False     False      True   \n",
       "1        False     False     False  ...      True     False     False   \n",
       "2        False     False     False  ...      True     False     False   \n",
       "3        False     False     False  ...      True     False     False   \n",
       "4        False     False     False  ...     False     False     False   \n",
       "...        ...       ...       ...  ...       ...       ...       ...   \n",
       "6501     False     False     False  ...     False     False     False   \n",
       "6502     False     False     False  ...     False      True     False   \n",
       "6503     False     False      True  ...     False     False     False   \n",
       "6504      True     False     False  ...     False     False      True   \n",
       "6505     False     False     False  ...     False     False     False   \n",
       "\n",
       "      w4_ton_b  w4_ton_0  w4_ton_s  w4_ton_j  w4_ton_v  w4_ton_m  w4_ton_g  \n",
       "0        False      True     False     False     False     False     False  \n",
       "1        False     False     False     False     False     False      True  \n",
       "2        False      True     False     False     False     False     False  \n",
       "3        False     False     False     False      True     False     False  \n",
       "4        False     False     False     False      True     False     False  \n",
       "...        ...       ...       ...       ...       ...       ...       ...  \n",
       "6501      True     False     False     False     False     False     False  \n",
       "6502     False     False      True     False     False     False     False  \n",
       "6503     False     False      True     False     False     False     False  \n",
       "6504     False     False     False      True     False     False     False  \n",
       "6505     False     False     False      True     False     False     False  \n",
       "\n",
       "[6506 rows x 29 columns]"
      ]
     },
     "execution_count": 33,
     "metadata": {},
     "output_type": "execute_result"
    }
   ],
   "source": [
    "expanded_df = add_onehot_features(add_unattested_data(df)).drop(columns=['word1', 'word2', 'word3', 'word4'])\n",
    "expanded_df"
   ]
  },
  {
   "cell_type": "code",
   "execution_count": 40,
   "metadata": {},
   "outputs": [
    {
     "name": "stdout",
     "output_type": "stream",
     "text": [
      "(6506, 28) (6506,)\n"
     ]
    }
   ],
   "source": [
    "X = expanded_df.drop(columns=['attested']).to_numpy()\n",
    "y = expanded_df['attested'].to_numpy()\n",
    "print(X.shape, y.shape)"
   ]
  },
  {
   "cell_type": "markdown",
   "metadata": {},
   "source": [
    "## Train Decision Tree\n",
    "First try the entire dataset, without splitting into train and val"
   ]
  },
  {
   "cell_type": "code",
   "execution_count": 41,
   "metadata": {},
   "outputs": [],
   "source": [
    "from sklearn.tree import DecisionTreeClassifier\n",
    "\n",
    "clf = DecisionTreeClassifier(criterion='entropy', random_state=0).fit(X, y)\n"
   ]
  },
  {
   "cell_type": "markdown",
   "metadata": {},
   "source": [
    "How accurate is this classifier?  -> 88.9%"
   ]
  },
  {
   "cell_type": "code",
   "execution_count": 43,
   "metadata": {
    "scrolled": true
   },
   "outputs": [
    {
     "data": {
      "text/plain": [
       "0.8885644020903781"
      ]
     },
     "execution_count": 43,
     "metadata": {},
     "output_type": "execute_result"
    }
   ],
   "source": [
    "clf.score(X, y)"
   ]
  },
  {
   "cell_type": "markdown",
   "metadata": {},
   "source": [
    "Try split on gini impurity index instead of entropy -- no change"
   ]
  },
  {
   "cell_type": "code",
   "execution_count": 76,
   "metadata": {},
   "outputs": [
    {
     "data": {
      "text/plain": [
       "0.8885644020903781"
      ]
     },
     "execution_count": 76,
     "metadata": {},
     "output_type": "execute_result"
    }
   ],
   "source": [
    "clf_gini = DecisionTreeClassifier(criterion='gini', random_state=0).fit(X, y)\n",
    "clf_gini.score(X, y)"
   ]
  },
  {
   "cell_type": "markdown",
   "metadata": {},
   "source": [
    "What if we do a train/test split  -> 85.3% - 87.8%"
   ]
  },
  {
   "cell_type": "code",
   "execution_count": 79,
   "metadata": {},
   "outputs": [
    {
     "name": "stdout",
     "output_type": "stream",
     "text": [
      "DescribeResult(nobs=50, minmax=(0.8534836065573771, 0.8775614754098361), mean=0.8672438524590163, variance=3.100090101547201e-05, skewness=-0.2524292005013592, kurtosis=-0.34909426134254007)\n"
     ]
    }
   ],
   "source": [
    "from sklearn.model_selection import train_test_split\n",
    "from scipy.stats import describe\n",
    "\n",
    "accs = []\n",
    "for rnd in range(50):\n",
    "    X_train, X_test, y_train, y_test = train_test_split(X, y, test_size=0.3, random_state=rnd)\n",
    "    clf_train = DecisionTreeClassifier(criterion='entropy', random_state=rnd).fit(X_train, y_train)\n",
    "    accs.append(clf_train.score(X_test, y_test))\n",
    "\n",
    "print(describe(accs))"
   ]
  },
  {
   "cell_type": "markdown",
   "metadata": {},
   "source": [
    "## Visualize Tree"
   ]
  },
  {
   "cell_type": "code",
   "execution_count": 69,
   "metadata": {},
   "outputs": [],
   "source": [
    "feature_names = expanded_df.columns.to_list()[1:]\n",
    "class_names = ['FAKE', 'ATT']"
   ]
  },
  {
   "cell_type": "code",
   "execution_count": 70,
   "metadata": {},
   "outputs": [
    {
     "name": "stdout",
     "output_type": "stream",
     "text": [
      "Requirement already satisfied: pydot in /home/cuichenx/anaconda3/envs/py38/lib/python3.8/site-packages (1.4.2)\n",
      "Requirement already satisfied: pyparsing>=2.1.4 in /home/cuichenx/anaconda3/envs/py38/lib/python3.8/site-packages (from pydot) (2.4.7)\n",
      "Requirement already satisfied: graphviz in /home/cuichenx/anaconda3/envs/py38/lib/python3.8/site-packages (0.17)\n"
     ]
    }
   ],
   "source": [
    "!pip install pydot\n",
    "!pip install graphviz\n",
    "# note: also need to install graphviz on your system: https://www.graphviz.org/\n",
    "from sklearn.tree import export_graphviz\n",
    "import pydot\n",
    "import re"
   ]
  },
  {
   "cell_type": "code",
   "execution_count": 73,
   "metadata": {},
   "outputs": [],
   "source": [
    "d = None # max depth\n",
    "\n",
    "export_graphviz(clf, \n",
    "                out_file=f'../out/tree{d or \"\"}.dot', \n",
    "                impurity=False, \n",
    "                feature_names=feature_names,\n",
    "                class_names=class_names,\n",
    "                max_depth=d)\n",
    "\n",
    "PATH = f'../out/tree{d or \"\"}.dot'\n",
    "f = pydot.graph_from_dot_file(PATH)[0].to_string()\n",
    "# print(len(f), '\\n', f[:1000])\n",
    "f = re.sub(r'(\\\\nvalue = \\[.*?\\])', '', f)  # get rid of nvalue = [anychar, lazy]\n",
    "f = f.replace(' <= 0.5', '?')  # change decision to a question\n",
    "f = f.replace('headlabel=\"True\"', 'headlabel=\"No\"')  # change to yes no rather than <=0.5 true false\n",
    "f = f.replace('headlabel=\"False\"', 'headlabel=\"Yes\"')\n",
    "f = f.replace(R'samples = 1\\nclass = ', R'***\\n')  # change text of leaf node\n",
    "# print(\"============================\")\n",
    "# print(len(f), '\\n', f[:1000])\n",
    "\n",
    "with open(f'../out/tree_modified{d or \"\"}.dot', 'w') as file:\n",
    "    file.write(f)"
   ]
  },
  {
   "cell_type": "code",
   "execution_count": 74,
   "metadata": {},
   "outputs": [
    {
     "data": {
      "text/html": [
       "<img src=\"../out/tree_modified.dot.png\"/>"
      ],
      "text/plain": [
       "<IPython.core.display.Image object>"
      ]
     },
     "execution_count": 74,
     "metadata": {},
     "output_type": "execute_result"
    }
   ],
   "source": [
    "import graphviz\n",
    "from IPython.display import Image\n",
    "savepath = graphviz.render('dot', 'png', f'../out/tree.dot')\n",
    "savepath_mod = graphviz.render('dot', 'png', f'../out/tree_modified{d or \"\"}.dot')\n",
    "\n",
    "Image(url=savepath)\n",
    "Image(url=savepath_mod)"
   ]
  }
 ],
 "metadata": {
  "kernelspec": {
   "display_name": "Python [conda env:py38] *",
   "language": "python",
   "name": "conda-env-py38-py"
  },
  "language_info": {
   "codemirror_mode": {
    "name": "ipython",
    "version": 3
   },
   "file_extension": ".py",
   "mimetype": "text/x-python",
   "name": "python",
   "nbconvert_exporter": "python",
   "pygments_lexer": "ipython3",
   "version": "3.8.2"
  }
 },
 "nbformat": 4,
 "nbformat_minor": 4
}
